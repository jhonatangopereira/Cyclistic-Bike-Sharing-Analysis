{
 "cells": [
  {
   "cell_type": "markdown",
   "metadata": {},
   "source": [
    "### Introduction"
   ]
  },
  {
   "cell_type": "markdown",
   "metadata": {},
   "source": [
    "### Ask\n",
    "- Três perguntas nortearão o futuro programa de marketing:\n",
    "    1. Como os membros anuais e os ciclistas casuais usam as bicicletas da Cyclistic de forma diferente?\n",
    "    2. Por que os passageiros casuais iriam querer adquirir planos anuais da Cyclistic?\n",
    "    3. Como a Cyclistic pode usar a mídia digital para influenciar os passageiros casuais a se tornarem membros?"
   ]
  },
  {
   "cell_type": "markdown",
   "metadata": {},
   "source": [
    "### Prepare\n",
    "A Lily lhe apresentou a primeira pergunta a ser respondida: Como os membros anuais e os ciclistas casuais usam as bicicletas da Cyclistic de forma diferente?\n",
    "\n",
    "Você criará um relatório com as entregas a seguir:\n",
    "    1. Uma declaração clara da tarefa de negócios\n",
    "    2. Uma descrição de todas as fontes de dados usadas\n",
    "    3. Documentação de qualquer limpeza ou manipulação de dados\n",
    "    4. Um resumo da sua análise\n",
    "    5. Como justificar visualizações e descobertas-chave\n",
    "    6. Suas três principais recomendações com base em sua análise"
   ]
  },
  {
   "cell_type": "markdown",
   "metadata": {},
   "source": [
    "Roteiro do estudo de caso - Perguntar\n",
    "Perguntas de orientação\n",
    "    • Qual é o problema que você está tentando resolver?\n",
    "    • Como seus insights podem nortear as decisões de negócios?\n",
    "Principais tarefas\n",
    "    1. Identificar a tarefa de negócios\n",
    "    2. Considerar as principais partes interessadas\n",
    "Entrega\n",
    "Uma declaração clara da tarefa de negócios\n"
   ]
  },
  {
   "cell_type": "code",
   "execution_count": 6,
   "metadata": {},
   "outputs": [
    {
     "name": "stdout",
     "output_type": "stream",
     "text": [
      "Requirement already satisfied: beautifulsoup4 in ./venv/lib64/python3.11/site-packages (4.12.2)\n",
      "Requirement already satisfied: soupsieve>1.2 in ./venv/lib64/python3.11/site-packages (from beautifulsoup4) (2.4.1)\n",
      "Note: you may need to restart the kernel to use updated packages.\n",
      "Requirement already satisfied: requests in ./venv/lib64/python3.11/site-packages (2.31.0)\n",
      "Requirement already satisfied: charset-normalizer<4,>=2 in ./venv/lib64/python3.11/site-packages (from requests) (3.2.0)\n",
      "Requirement already satisfied: idna<4,>=2.5 in ./venv/lib64/python3.11/site-packages (from requests) (3.4)\n",
      "Requirement already satisfied: urllib3<3,>=1.21.1 in ./venv/lib64/python3.11/site-packages (from requests) (2.0.4)\n",
      "Requirement already satisfied: certifi>=2017.4.17 in ./venv/lib64/python3.11/site-packages (from requests) (2023.7.22)\n",
      "Note: you may need to restart the kernel to use updated packages.\n",
      "Collecting polars\n",
      "  Obtaining dependency information for polars from https://files.pythonhosted.org/packages/f8/ef/8cf68cc73b751d569152d08b6b53b78126770f3a8a305a1e1c0357f21e69/polars-0.18.8-cp38-abi3-manylinux_2_17_x86_64.manylinux2014_x86_64.whl.metadata\n",
      "  Downloading polars-0.18.8-cp38-abi3-manylinux_2_17_x86_64.manylinux2014_x86_64.whl.metadata (14 kB)\n",
      "Downloading polars-0.18.8-cp38-abi3-manylinux_2_17_x86_64.manylinux2014_x86_64.whl (19.3 MB)\n",
      "\u001b[2K   \u001b[90m━━━━━━━━━━━━━━━━━━━━━━━━━━━━━━━━━━━━━━━━\u001b[0m \u001b[32m19.3/19.3 MB\u001b[0m \u001b[31m8.5 MB/s\u001b[0m eta \u001b[36m0:00:00\u001b[0m00:01\u001b[0m00:01\u001b[0mm\n",
      "\u001b[?25hInstalling collected packages: polars\n",
      "Successfully installed polars-0.18.8\n",
      "Note: you may need to restart the kernel to use updated packages.\n"
     ]
    }
   ],
   "source": [
    "%pip install beautifulsoup4\n",
    "\n",
    "%pip install requests\n",
    "%pip install polars"
   ]
  },
  {
   "cell_type": "code",
   "execution_count": 4,
   "metadata": {},
   "outputs": [
    {
     "name": "stdout",
     "output_type": "stream",
     "text": [
      "202004-divvy-tripdata.csv        Divvy_Stations_2014_Q1Q2.sbn\n",
      "202005-divvy-tripdata.csv        Divvy_Stations_2014_Q1Q2.sbx\n",
      "202006-divvy-tripdata.csv        Divvy_Stations_2014_Q1Q2.shp\n",
      "202007-divvy-tripdata.csv        Divvy_Stations_2014_Q1Q2.shp.xml\n",
      "202008-divvy-tripdata.csv        Divvy_Stations_2014_Q1Q2.shx\n",
      "202009-divvy-tripdata.csv        Divvy_Stations_2014-Q1Q2.xlsx\n",
      "202010-divvy-tripdata.csv        Divvy_Stations_2015.csv\n",
      "202011-divvy-tripdata.csv        Divvy_Stations_2016_Q3.csv\n",
      "202012-divvy-tripdata.csv        Divvy_Stations_2016_Q4.csv\n",
      "202101-divvy-tripdata.csv        Divvy_Stations_2017_Q1Q2.csv\n",
      "202102-divvy-tripdata.csv        Divvy_Stations_2017_Q3Q4.csv\n",
      "202103-divvy-tripdata.csv        \u001b[0m\u001b[01;34mDivvy_Stations_Trips_2013\u001b[0m/\n",
      "202104-divvy-tripdata.csv        \u001b[01;34mDivvy_Stations_Trips_2014_Q3Q4\u001b[0m/\n",
      "202105-divvy-tripdata.csv        Divvy_Trips_2014_Q1Q2.csv\n",
      "202106-divvy-tripdata.csv        Divvy_Trips_2015_07.csv\n",
      "202107-divvy-tripdata.csv        Divvy_Trips_2015_08.csv\n",
      "202108-divvy-tripdata.csv        Divvy_Trips_2015_09.csv\n",
      "202109-divvy-tripdata.csv        Divvy_Trips_2015-Q1.csv\n",
      "202110-divvy-tripdata.csv        Divvy_Trips_2015-Q2.csv\n",
      "202111-divvy-tripdata.csv        Divvy_Trips_2015_Q4.csv\n",
      "202112-divvy-tripdata.csv        \u001b[01;34mDivvy_Trips_2016_Q1Q2\u001b[0m/\n",
      "202201-divvy-tripdata.csv        Divvy_Trips_2016_Q3.csv\n",
      "202202-divvy-tripdata.csv        Divvy_Trips_2016_Q4.csv\n",
      "202203-divvy-tripdata.csv        Divvy_Trips_2017_Q1.csv\n",
      "202204-divvy-tripdata.csv        Divvy_Trips_2017_Q2.csv\n",
      "202205-divvy-tripdata.csv        Divvy_Trips_2017_Q3.csv\n",
      "202206-divvy-tripdata.csv        Divvy_Trips_2017_Q4.csv\n",
      "202207-divvy-tripdata.csv        Divvy_Trips_2018_Q1.csv\n",
      "202208-divvy-tripdata.csv        Divvy_Trips_2018_Q2.csv\n",
      "202209-divvy-publictripdata.csv  Divvy_Trips_2018_Q3.csv\n",
      "202210-divvy-tripdata.csv        Divvy_Trips_2018_Q4.csv\n",
      "202211-divvy-tripdata.csv        Divvy_Trips_2019_Q1.csv\n",
      "202212-divvy-tripdata.csv        Divvy_Trips_2019_Q2.csv\n",
      "202301-divvy-tripdata.csv        Divvy_Trips_2019_Q3.csv\n",
      "202302-divvy-tripdata.csv        Divvy_Trips_2019_Q4.csv\n",
      "202303-divvy-tripdata.csv        Divvy_Trips_2020_Q1.csv\n",
      "202304-divvy-tripdata.csv        \u001b[01;34m__MACOSX\u001b[0m/\n",
      "202305-divvy-tripdata.csv        README_2016_Q3.txt\n",
      "202306-divvy-tripdata.csv        README_2016_Q4.txt\n",
      "Divvy_Stations_2014_Q1Q2.dbf     README.txt\n",
      "Divvy_Stations_2014_Q1Q2.prj\n"
     ]
    }
   ],
   "source": [
    "%ls data/"
   ]
  },
  {
   "cell_type": "code",
   "execution_count": 6,
   "metadata": {},
   "outputs": [
    {
     "data": {
      "text/html": [
       "<div><style>\n",
       ".dataframe > thead > tr > th,\n",
       ".dataframe > tbody > tr > td {\n",
       "  text-align: right;\n",
       "}\n",
       "</style>\n",
       "<small>shape: (84_776, 13)</small><table border=\"1\" class=\"dataframe\"><thead><tr><th>ride_id</th><th>rideable_type</th><th>started_at</th><th>ended_at</th><th>start_station_name</th><th>start_station_id</th><th>end_station_name</th><th>end_station_id</th><th>start_lat</th><th>start_lng</th><th>end_lat</th><th>end_lng</th><th>member_casual</th></tr><tr><td>str</td><td>str</td><td>str</td><td>str</td><td>str</td><td>i64</td><td>str</td><td>i64</td><td>f64</td><td>f64</td><td>f64</td><td>f64</td><td>str</td></tr></thead><tbody><tr><td>&quot;A847FADBBC638E…</td><td>&quot;docked_bike&quot;</td><td>&quot;2020-04-26 17:…</td><td>&quot;2020-04-26 18:…</td><td>&quot;Eckhart Park&quot;</td><td>86</td><td>&quot;Lincoln Ave &amp; …</td><td>152</td><td>41.8964</td><td>-87.661</td><td>41.9322</td><td>-87.6586</td><td>&quot;member&quot;</td></tr><tr><td>&quot;5405B80E996FF6…</td><td>&quot;docked_bike&quot;</td><td>&quot;2020-04-17 17:…</td><td>&quot;2020-04-17 17:…</td><td>&quot;Drake Ave &amp; Fu…</td><td>503</td><td>&quot;Kosciuszko Par…</td><td>499</td><td>41.9244</td><td>-87.7154</td><td>41.9306</td><td>-87.7238</td><td>&quot;member&quot;</td></tr><tr><td>&quot;5DD24A79A4E006…</td><td>&quot;docked_bike&quot;</td><td>&quot;2020-04-01 17:…</td><td>&quot;2020-04-01 18:…</td><td>&quot;McClurg Ct &amp; E…</td><td>142</td><td>&quot;Indiana Ave &amp; …</td><td>255</td><td>41.8945</td><td>-87.6179</td><td>41.8679</td><td>-87.623</td><td>&quot;member&quot;</td></tr><tr><td>&quot;2A59BBDF5CDBA7…</td><td>&quot;docked_bike&quot;</td><td>&quot;2020-04-07 12:…</td><td>&quot;2020-04-07 13:…</td><td>&quot;California Ave…</td><td>216</td><td>&quot;Wood St &amp; Augu…</td><td>657</td><td>41.903</td><td>-87.6975</td><td>41.8992</td><td>-87.6722</td><td>&quot;member&quot;</td></tr><tr><td>&quot;27AD306C119C61…</td><td>&quot;docked_bike&quot;</td><td>&quot;2020-04-18 10:…</td><td>&quot;2020-04-18 11:…</td><td>&quot;Rush St &amp; Hubb…</td><td>125</td><td>&quot;Sheridan Rd &amp; …</td><td>323</td><td>41.8902</td><td>-87.6262</td><td>41.9695</td><td>-87.6547</td><td>&quot;casual&quot;</td></tr><tr><td>&quot;356216E875132F…</td><td>&quot;docked_bike&quot;</td><td>&quot;2020-04-30 17:…</td><td>&quot;2020-04-30 18:…</td><td>&quot;Mies van der R…</td><td>173</td><td>&quot;Streeter Dr &amp; …</td><td>35</td><td>41.8969</td><td>-87.6217</td><td>41.8923</td><td>-87.612</td><td>&quot;member&quot;</td></tr><tr><td>&quot;A2759CB06A81F2…</td><td>&quot;docked_bike&quot;</td><td>&quot;2020-04-02 14:…</td><td>&quot;2020-04-02 14:…</td><td>&quot;Streeter Dr &amp; …</td><td>35</td><td>&quot;Fairbanks St &amp;…</td><td>635</td><td>41.8923</td><td>-87.612</td><td>41.8957</td><td>-87.6201</td><td>&quot;member&quot;</td></tr><tr><td>&quot;FC8BC2E2D54F35…</td><td>&quot;docked_bike&quot;</td><td>&quot;2020-04-07 12:…</td><td>&quot;2020-04-07 13:…</td><td>&quot;Ogden Ave &amp; Ro…</td><td>434</td><td>&quot;Western Ave &amp; …</td><td>382</td><td>41.8665</td><td>-87.6847</td><td>41.8747</td><td>-87.6864</td><td>&quot;casual&quot;</td></tr><tr><td>&quot;9EC5648678DE06…</td><td>&quot;docked_bike&quot;</td><td>&quot;2020-04-15 10:…</td><td>&quot;2020-04-15 10:…</td><td>&quot;LaSalle Dr &amp; H…</td><td>627</td><td>&quot;Larrabee St &amp; …</td><td>359</td><td>41.8949</td><td>-87.6323</td><td>41.9035</td><td>-87.6434</td><td>&quot;casual&quot;</td></tr><tr><td>&quot;A8FFF89140C330…</td><td>&quot;docked_bike&quot;</td><td>&quot;2020-04-04 15:…</td><td>&quot;2020-04-04 15:…</td><td>&quot;Kedzie Ave &amp; L…</td><td>377</td><td>&quot;Central Park A…</td><td>508</td><td>41.8846</td><td>-87.7063</td><td>41.9097</td><td>-87.7166</td><td>&quot;member&quot;</td></tr><tr><td>&quot;788B1BB8A7491E…</td><td>&quot;docked_bike&quot;</td><td>&quot;2020-04-04 15:…</td><td>&quot;2020-04-04 15:…</td><td>&quot;Central Park A…</td><td>508</td><td>&quot;Western Ave &amp; …</td><td>374</td><td>41.9097</td><td>-87.7166</td><td>41.8984</td><td>-87.6866</td><td>&quot;member&quot;</td></tr><tr><td>&quot;C83C113858BA06…</td><td>&quot;docked_bike&quot;</td><td>&quot;2020-04-25 15:…</td><td>&quot;2020-04-25 15:…</td><td>&quot;Western Ave &amp; …</td><td>374</td><td>&quot;Damen Ave &amp; Ch…</td><td>128</td><td>41.8984</td><td>-87.6866</td><td>41.8958</td><td>-87.6772</td><td>&quot;member&quot;</td></tr><tr><td>&hellip;</td><td>&hellip;</td><td>&hellip;</td><td>&hellip;</td><td>&hellip;</td><td>&hellip;</td><td>&hellip;</td><td>&hellip;</td><td>&hellip;</td><td>&hellip;</td><td>&hellip;</td><td>&hellip;</td><td>&hellip;</td></tr><tr><td>&quot;5C22EF01A5B5FE…</td><td>&quot;docked_bike&quot;</td><td>&quot;2020-04-02 17:…</td><td>&quot;2020-04-02 17:…</td><td>&quot;Racine Ave &amp; C…</td><td>32</td><td>&quot;Clinton St &amp; 1…</td><td>170</td><td>41.8746</td><td>-87.657</td><td>41.858</td><td>-87.6408</td><td>&quot;member&quot;</td></tr><tr><td>&quot;69BB6D8D831BB0…</td><td>&quot;docked_bike&quot;</td><td>&quot;2020-04-02 16:…</td><td>&quot;2020-04-02 16:…</td><td>&quot;Racine Ave &amp; C…</td><td>32</td><td>&quot;Aberdeen St &amp; …</td><td>21</td><td>41.8746</td><td>-87.657</td><td>41.8777</td><td>-87.6548</td><td>&quot;member&quot;</td></tr><tr><td>&quot;8D63CE7BD65E26…</td><td>&quot;docked_bike&quot;</td><td>&quot;2020-04-07 07:…</td><td>&quot;2020-04-07 07:…</td><td>&quot;Wood St &amp; Milw…</td><td>61</td><td>&quot;Wood St &amp; Milw…</td><td>61</td><td>41.9077</td><td>-87.6726</td><td>41.9077</td><td>-87.6726</td><td>&quot;casual&quot;</td></tr><tr><td>&quot;45A4A6D5DBC79B…</td><td>&quot;docked_bike&quot;</td><td>&quot;2020-04-12 14:…</td><td>&quot;2020-04-12 14:…</td><td>&quot;Clark St &amp; Nor…</td><td>126</td><td>&quot;State St &amp; Pea…</td><td>106</td><td>41.912</td><td>-87.6319</td><td>41.8974</td><td>-87.6287</td><td>&quot;member&quot;</td></tr><tr><td>&quot;170F423539DB8B…</td><td>&quot;docked_bike&quot;</td><td>&quot;2020-04-12 14:…</td><td>&quot;2020-04-12 14:…</td><td>&quot;Lake Shore Dr …</td><td>268</td><td>&quot;Clark St &amp; Lin…</td><td>141</td><td>41.9117</td><td>-87.6268</td><td>41.9157</td><td>-87.6346</td><td>&quot;member&quot;</td></tr><tr><td>&quot;5892980D6CE02D…</td><td>&quot;docked_bike&quot;</td><td>&quot;2020-04-12 14:…</td><td>&quot;2020-04-12 14:…</td><td>&quot;Lake Shore Dr …</td><td>268</td><td>&quot;Lake Shore Dr …</td><td>268</td><td>41.9117</td><td>-87.6268</td><td>41.9117</td><td>-87.6268</td><td>&quot;member&quot;</td></tr><tr><td>&quot;259E75108F1C12…</td><td>&quot;docked_bike&quot;</td><td>&quot;2020-04-12 12:…</td><td>&quot;2020-04-12 12:…</td><td>&quot;State St &amp; Pea…</td><td>106</td><td>&quot;Lake Shore Dr …</td><td>268</td><td>41.8974</td><td>-87.6287</td><td>41.9117</td><td>-87.6268</td><td>&quot;member&quot;</td></tr><tr><td>&quot;200E9CDFC5685A…</td><td>&quot;docked_bike&quot;</td><td>&quot;2020-04-16 16:…</td><td>&quot;2020-04-16 16:…</td><td>&quot;Dearborn Pkwy …</td><td>140</td><td>&quot;Dearborn Pkwy …</td><td>140</td><td>41.899</td><td>-87.6299</td><td>41.899</td><td>-87.6299</td><td>&quot;member&quot;</td></tr><tr><td>&quot;F58A8F2ABCB5D9…</td><td>&quot;docked_bike&quot;</td><td>&quot;2020-04-30 17:…</td><td>&quot;2020-04-30 18:…</td><td>&quot;Kimbark Ave &amp; …</td><td>322</td><td>&quot;Cottage Grove …</td><td>351</td><td>41.7996</td><td>-87.5947</td><td>41.803</td><td>-87.6066</td><td>&quot;casual&quot;</td></tr><tr><td>&quot;A3754693A80E49…</td><td>&quot;docked_bike&quot;</td><td>&quot;2020-04-24 19:…</td><td>&quot;2020-04-24 21:…</td><td>&quot;Sedgwick St &amp; …</td><td>236</td><td>&quot;Wells St &amp; Elm…</td><td>182</td><td>41.9076</td><td>-87.6386</td><td>41.9032</td><td>-87.6343</td><td>&quot;casual&quot;</td></tr><tr><td>&quot;D610CABB67F7B7…</td><td>&quot;docked_bike&quot;</td><td>&quot;2020-04-02 17:…</td><td>&quot;2020-04-02 18:…</td><td>&quot;Damen Ave &amp; Ch…</td><td>310</td><td>&quot;Damen Ave &amp; Ch…</td><td>310</td><td>41.9201</td><td>-87.6779</td><td>41.9201</td><td>-87.6779</td><td>&quot;casual&quot;</td></tr><tr><td>&quot;79634521ABE4CF…</td><td>&quot;docked_bike&quot;</td><td>&quot;2020-04-04 01:…</td><td>&quot;2020-04-04 01:…</td><td>&quot;Clybourn Ave &amp;…</td><td>138</td><td>&quot;Clybourn Ave &amp;…</td><td>138</td><td>41.9046</td><td>-87.6406</td><td>41.9046</td><td>-87.6406</td><td>&quot;casual&quot;</td></tr></tbody></table></div>"
      ],
      "text/plain": [
       "shape: (84_776, 13)\n",
       "┌────────────┬────────────┬───────────┬───────────┬───┬───────────┬─────────┬──────────┬───────────┐\n",
       "│ ride_id    ┆ rideable_t ┆ started_a ┆ ended_at  ┆ … ┆ start_lng ┆ end_lat ┆ end_lng  ┆ member_ca │\n",
       "│ ---        ┆ ype        ┆ t         ┆ ---       ┆   ┆ ---       ┆ ---     ┆ ---      ┆ sual      │\n",
       "│ str        ┆ ---        ┆ ---       ┆ str       ┆   ┆ f64       ┆ f64     ┆ f64      ┆ ---       │\n",
       "│            ┆ str        ┆ str       ┆           ┆   ┆           ┆         ┆          ┆ str       │\n",
       "╞════════════╪════════════╪═══════════╪═══════════╪═══╪═══════════╪═════════╪══════════╪═══════════╡\n",
       "│ A847FADBBC ┆ docked_bik ┆ 2020-04-2 ┆ 2020-04-2 ┆ … ┆ -87.661   ┆ 41.9322 ┆ -87.6586 ┆ member    │\n",
       "│ 638E45     ┆ e          ┆ 6         ┆ 6         ┆   ┆           ┆         ┆          ┆           │\n",
       "│            ┆            ┆ 17:45:14  ┆ 18:12:03  ┆   ┆           ┆         ┆          ┆           │\n",
       "│ 5405B80E99 ┆ docked_bik ┆ 2020-04-1 ┆ 2020-04-1 ┆ … ┆ -87.7154  ┆ 41.9306 ┆ -87.7238 ┆ member    │\n",
       "│ 6FF60D     ┆ e          ┆ 7         ┆ 7         ┆   ┆           ┆         ┆          ┆           │\n",
       "│            ┆            ┆ 17:08:54  ┆ 17:17:03  ┆   ┆           ┆         ┆          ┆           │\n",
       "│ 5DD24A79A4 ┆ docked_bik ┆ 2020-04-0 ┆ 2020-04-0 ┆ … ┆ -87.6179  ┆ 41.8679 ┆ -87.623  ┆ member    │\n",
       "│ E006F4     ┆ e          ┆ 1         ┆ 1         ┆   ┆           ┆         ┆          ┆           │\n",
       "│            ┆            ┆ 17:54:13  ┆ 18:08:36  ┆   ┆           ┆         ┆          ┆           │\n",
       "│ 2A59BBDF5C ┆ docked_bik ┆ 2020-04-0 ┆ 2020-04-0 ┆ … ┆ -87.6975  ┆ 41.8992 ┆ -87.6722 ┆ member    │\n",
       "│ DBA725     ┆ e          ┆ 7         ┆ 7         ┆   ┆           ┆         ┆          ┆           │\n",
       "│            ┆            ┆ 12:50:19  ┆ 13:02:31  ┆   ┆           ┆         ┆          ┆           │\n",
       "│ …          ┆ …          ┆ …         ┆ …         ┆ … ┆ …         ┆ …       ┆ …        ┆ …         │\n",
       "│ F58A8F2ABC ┆ docked_bik ┆ 2020-04-3 ┆ 2020-04-3 ┆ … ┆ -87.5947  ┆ 41.803  ┆ -87.6066 ┆ casual    │\n",
       "│ B5D95B     ┆ e          ┆ 0         ┆ 0         ┆   ┆           ┆         ┆          ┆           │\n",
       "│            ┆            ┆ 17:56:12  ┆ 18:15:21  ┆   ┆           ┆         ┆          ┆           │\n",
       "│ A3754693A8 ┆ docked_bik ┆ 2020-04-2 ┆ 2020-04-2 ┆ … ┆ -87.6386  ┆ 41.9032 ┆ -87.6343 ┆ casual    │\n",
       "│ 0E4913     ┆ e          ┆ 4         ┆ 4         ┆   ┆           ┆         ┆          ┆           │\n",
       "│            ┆            ┆ 19:57:33  ┆ 21:50:43  ┆   ┆           ┆         ┆          ┆           │\n",
       "│ D610CABB67 ┆ docked_bik ┆ 2020-04-0 ┆ 2020-04-0 ┆ … ┆ -87.6779  ┆ 41.9201 ┆ -87.6779 ┆ casual    │\n",
       "│ F7B744     ┆ e          ┆ 2         ┆ 2         ┆   ┆           ┆         ┆          ┆           │\n",
       "│            ┆            ┆ 17:59:55  ┆ 18:42:26  ┆   ┆           ┆         ┆          ┆           │\n",
       "│ 79634521AB ┆ docked_bik ┆ 2020-04-0 ┆ 2020-04-0 ┆ … ┆ -87.6406  ┆ 41.9046 ┆ -87.6406 ┆ casual    │\n",
       "│ E4CF69     ┆ e          ┆ 4         ┆ 4         ┆   ┆           ┆         ┆          ┆           │\n",
       "│            ┆            ┆ 01:31:27  ┆ 01:37:27  ┆   ┆           ┆         ┆          ┆           │\n",
       "└────────────┴────────────┴───────────┴───────────┴───┴───────────┴─────────┴──────────┴───────────┘"
      ]
     },
     "execution_count": 6,
     "metadata": {},
     "output_type": "execute_result"
    }
   ],
   "source": [
    "import polars as pl\n",
    "\n",
    "df = pl.scan_csv(\"data/202004-divvy-tripdata.csv\").collect()\n",
    "df"
   ]
  },
  {
   "cell_type": "code",
   "execution_count": null,
   "metadata": {},
   "outputs": [],
   "source": []
  }
 ],
 "metadata": {
  "kernelspec": {
   "display_name": "venv",
   "language": "python",
   "name": "python3"
  },
  "language_info": {
   "codemirror_mode": {
    "name": "ipython",
    "version": 3
   },
   "file_extension": ".py",
   "mimetype": "text/x-python",
   "name": "python",
   "nbconvert_exporter": "python",
   "pygments_lexer": "ipython3",
   "version": "3.11.4"
  },
  "orig_nbformat": 4
 },
 "nbformat": 4,
 "nbformat_minor": 2
}
