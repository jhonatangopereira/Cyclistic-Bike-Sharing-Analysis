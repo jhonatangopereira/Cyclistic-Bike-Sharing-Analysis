{
 "cells": [
  {
   "cell_type": "markdown",
   "metadata": {},
   "source": [
    "# Cyclistic Bike Sharing Analysis\n",
    "## Study Case - How does a Bike-Share company make quick success possible?"
   ]
  },
  {
   "cell_type": "markdown",
   "metadata": {},
   "source": [
    "### Introduction\n",
    "This notebook is a study case to **analysis bike sharing** in a fictional company called _Cyclistic_. The company has two types of clients: **casual** and **member**. The company has three types of plans: **single ride**, **all day ride** and **anual member**."
   ]
  },
  {
   "cell_type": "markdown",
   "metadata": {},
   "source": [
    "The **objective** is to understand how this company actually works and how it can be improved. The **goal** is to find out the most important factors that affect the success of a campaign and to answer the following questions:"
   ]
  },
  {
   "cell_type": "markdown",
   "metadata": {},
   "source": [
    "### Ask\n",
    "- Three questions will guide the future marketing program:\n",
    "1. **How do annual members and casual riders use Cyclistic bikes differently?**\n",
    "2. **Why would casual riders buy Cyclistic annual memberships?**\n",
    "3. **How can Cyclistic use digital media to influence casual riders to become members?**"
   ]
  },
  {
   "cell_type": "markdown",
   "metadata": {},
   "source": [
    "The final result is a report that contains the following information:\n",
    "1. **A clear statement of the business task**    \n",
    "2. **A description of all data sources used**\n",
    "3. **A documentation of any cleaning or manipulation of data**\n",
    "4. **A summary of my analysis**\n",
    "5. **How i justified visualizations and my key findings**\n",
    "6. **My three main recommendations based on my analysis**"
   ]
  },
  {
   "cell_type": "markdown",
   "metadata": {},
   "source": [
    "### Prepare\n",
    "I will use Cyclistic’s historical trip data to analyze and identify trends. The Cyclistic trip data start on 2013.\n",
    "\n",
    "> 💡: I don't need old data, because doesn't represent the actual state of the company.\n",
    "\n",
    "To solve this, i will use the data from 2022 to 2023. The data is available in this link: https://divvy-tripdata.s3.amazonaws.com/index.html\n",
    "\n",
    "(Note: The data has been made available by Motivate International Inc. under this license)"
   ]
  },
  {
   "cell_type": "code",
   "execution_count": 1,
   "metadata": {},
   "outputs": [
    {
     "name": "stdout",
     "output_type": "stream",
     "text": [
      "Defaulting to user installation because normal site-packages is not writeable\n",
      "Requirement already satisfied: polars in /home/john/.local/lib/python3.11/site-packages (0.18.13)\n",
      "Note: you may need to restart the kernel to use updated packages.\n"
     ]
    }
   ],
   "source": [
    "# I choose to use polars instead of pandas because it is faster and more efficient. So, i will use this library to read the csv file and to do the data analysis.\n",
    "%pip install polars"
   ]
  },
  {
   "cell_type": "code",
   "execution_count": 2,
   "metadata": {},
   "outputs": [],
   "source": [
    "import polars as pl"
   ]
  },
  {
   "cell_type": "code",
   "execution_count": 3,
   "metadata": {},
   "outputs": [
    {
     "name": "stdout",
     "output_type": "stream",
     "text": [
      "\u001b[0m\u001b[01;34m2022\u001b[0m/                            202210-divvy-tripdata.csv\n",
      "202201-divvy-tripdata.csv        202211-divvy-tripdata.csv\n",
      "202202-divvy-tripdata.csv        202212-divvy-tripdata.csv\n",
      "202203-divvy-tripdata.csv        \u001b[01;34m2023\u001b[0m/\n",
      "202204-divvy-tripdata.csv        202301-divvy-tripdata.csv\n",
      "202205-divvy-tripdata.csv        202302-divvy-tripdata.csv\n",
      "202206-divvy-tripdata.csv        202303-divvy-tripdata.csv\n",
      "202207-divvy-tripdata.csv        202304-divvy-tripdata.csv\n",
      "202208-divvy-tripdata.csv        202305-divvy-tripdata.csv\n",
      "202209-divvy-publictripdata.csv  202306-divvy-tripdata.csv\n"
     ]
    }
   ],
   "source": [
    "%ls ./datasets/"
   ]
  },
  {
   "cell_type": "code",
   "execution_count": 4,
   "metadata": {},
   "outputs": [
    {
     "name": "stdout",
     "output_type": "stream",
     "text": [
      "\u001b[0m\u001b[01;31m202201-divvy-tripdata.zip\u001b[0m  \u001b[01;31m202205-divvy-tripdata.zip\u001b[0m  \u001b[01;31m202209-divvy-tripdata.zip\u001b[0m\n",
      "\u001b[01;31m202202-divvy-tripdata.zip\u001b[0m  \u001b[01;31m202206-divvy-tripdata.zip\u001b[0m  \u001b[01;31m202210-divvy-tripdata.zip\u001b[0m\n",
      "\u001b[01;31m202203-divvy-tripdata.zip\u001b[0m  \u001b[01;31m202207-divvy-tripdata.zip\u001b[0m  \u001b[01;31m202211-divvy-tripdata.zip\u001b[0m\n",
      "\u001b[01;31m202204-divvy-tripdata.zip\u001b[0m  \u001b[01;31m202208-divvy-tripdata.zip\u001b[0m  \u001b[01;31m202212-divvy-tripdata.zip\u001b[0m\n"
     ]
    }
   ],
   "source": [
    "%ls ./datasets/2022"
   ]
  },
  {
   "cell_type": "code",
   "execution_count": 5,
   "metadata": {},
   "outputs": [
    {
     "name": "stdout",
     "output_type": "stream",
     "text": [
      "\u001b[0m\u001b[01;31m202301-divvy-tripdata.zip\u001b[0m  \u001b[01;31m202303-divvy-tripdata.zip\u001b[0m  \u001b[01;31m202305-divvy-tripdata.zip\u001b[0m\n",
      "\u001b[01;31m202302-divvy-tripdata.zip\u001b[0m  \u001b[01;31m202304-divvy-tripdata.zip\u001b[0m  \u001b[01;31m202306-divvy-tripdata.zip\u001b[0m\n"
     ]
    }
   ],
   "source": [
    "%ls ./datasets/2023"
   ]
  },
  {
   "cell_type": "markdown",
   "metadata": {},
   "source": [
    "Now i get all the data that i will need, i have to extract the zip files, clean and transform it to be able to analyze it."
   ]
  },
  {
   "cell_type": "code",
   "execution_count": 6,
   "metadata": {},
   "outputs": [],
   "source": [
    "from os import listdir\n",
    "import zipfile\n",
    "\n",
    "has_to_download_the_files = False\n",
    "\n",
    "if has_to_download_the_files:\n",
    "    # Get all zip files\n",
    "    my_path = \"./datasets/\"\n",
    "    onlyfiles = [f for f in (listdir(f\"{my_path}{2022}\") + listdir(f\"{my_path}{2023}\")) if \"zip\" in f]\n",
    "\n",
    "    # Extract all zip files\n",
    "    for file_name in onlyfiles:\n",
    "        path = my_path + (\"2022/\" if \"2022\" in file_name else \"2023/\") + file_name\n",
    "        with zipfile.ZipFile(path, 'r') as zip_ref:\n",
    "            zip_ref.extractall(my_path)"
   ]
  },
  {
   "cell_type": "code",
   "execution_count": 7,
   "metadata": {},
   "outputs": [
    {
     "data": {
      "text/html": [
       "<div><style>\n",
       ".dataframe > thead > tr > th,\n",
       ".dataframe > tbody > tr > td {\n",
       "  text-align: right;\n",
       "}\n",
       "</style>\n",
       "<small>shape: (103_770, 13)</small><table border=\"1\" class=\"dataframe\"><thead><tr><th>ride_id</th><th>rideable_type</th><th>started_at</th><th>ended_at</th><th>start_station_name</th><th>start_station_id</th><th>end_station_name</th><th>end_station_id</th><th>start_lat</th><th>start_lng</th><th>end_lat</th><th>end_lng</th><th>member_casual</th></tr><tr><td>str</td><td>str</td><td>str</td><td>str</td><td>str</td><td>str</td><td>str</td><td>str</td><td>f64</td><td>f64</td><td>f64</td><td>f64</td><td>str</td></tr></thead><tbody><tr><td>&quot;C2F7DD78E82EC8…</td><td>&quot;electric_bike&quot;</td><td>&quot;2022-01-13 11:…</td><td>&quot;2022-01-13 12:…</td><td>&quot;Glenwood Ave &amp;…</td><td>&quot;525&quot;</td><td>&quot;Clark St &amp; Tou…</td><td>&quot;RP-007&quot;</td><td>42.0128</td><td>-87.665906</td><td>42.01256</td><td>-87.674367</td><td>&quot;casual&quot;</td></tr><tr><td>&quot;A6CF8980A652D2…</td><td>&quot;electric_bike&quot;</td><td>&quot;2022-01-10 08:…</td><td>&quot;2022-01-10 08:…</td><td>&quot;Glenwood Ave &amp;…</td><td>&quot;525&quot;</td><td>&quot;Clark St &amp; Tou…</td><td>&quot;RP-007&quot;</td><td>42.012763</td><td>-87.665967</td><td>42.01256</td><td>-87.674367</td><td>&quot;casual&quot;</td></tr><tr><td>&quot;BD0F91DFF741C6…</td><td>&quot;classic_bike&quot;</td><td>&quot;2022-01-25 04:…</td><td>&quot;2022-01-25 04:…</td><td>&quot;Sheffield Ave …</td><td>&quot;TA1306000016&quot;</td><td>&quot;Greenview Ave …</td><td>&quot;TA1307000001&quot;</td><td>41.925602</td><td>-87.653708</td><td>41.92533</td><td>-87.6658</td><td>&quot;member&quot;</td></tr><tr><td>&quot;CBB80ED4191054…</td><td>&quot;classic_bike&quot;</td><td>&quot;2022-01-04 00:…</td><td>&quot;2022-01-04 00:…</td><td>&quot;Clark St &amp; Bry…</td><td>&quot;KA1504000151&quot;</td><td>&quot;Paulina St &amp; M…</td><td>&quot;TA1309000021&quot;</td><td>41.983593</td><td>-87.669154</td><td>41.961507</td><td>-87.671387</td><td>&quot;casual&quot;</td></tr><tr><td>&quot;DDC963BFDDA51E…</td><td>&quot;classic_bike&quot;</td><td>&quot;2022-01-20 01:…</td><td>&quot;2022-01-20 01:…</td><td>&quot;Michigan Ave &amp;…</td><td>&quot;TA1309000002&quot;</td><td>&quot;State St &amp; Ran…</td><td>&quot;TA1305000029&quot;</td><td>41.87785</td><td>-87.62408</td><td>41.884621</td><td>-87.627834</td><td>&quot;member&quot;</td></tr><tr><td>&quot;A39C6F6CC0586C…</td><td>&quot;classic_bike&quot;</td><td>&quot;2022-01-11 18:…</td><td>&quot;2022-01-11 18:…</td><td>&quot;Wood St &amp; Chic…</td><td>&quot;637&quot;</td><td>&quot;Honore St &amp; Di…</td><td>&quot;TA1305000034&quot;</td><td>41.895634</td><td>-87.672069</td><td>41.903119</td><td>-87.673935</td><td>&quot;member&quot;</td></tr><tr><td>&quot;BDC4AB637EDF98…</td><td>&quot;classic_bike&quot;</td><td>&quot;2022-01-30 18:…</td><td>&quot;2022-01-30 18:…</td><td>&quot;Oakley Ave &amp; I…</td><td>&quot;KA1504000158&quot;</td><td>&quot;Broadway &amp; She…</td><td>&quot;13323&quot;</td><td>41.954341</td><td>-87.68608</td><td>41.952833</td><td>-87.649993</td><td>&quot;member&quot;</td></tr><tr><td>&quot;81751A3186E59A…</td><td>&quot;classic_bike&quot;</td><td>&quot;2022-01-22 12:…</td><td>&quot;2022-01-22 12:…</td><td>&quot;Sheffield Ave …</td><td>&quot;TA1306000016&quot;</td><td>&quot;Damen Ave &amp; Cl…</td><td>&quot;13271&quot;</td><td>41.925602</td><td>-87.653708</td><td>41.931931</td><td>-87.677856</td><td>&quot;member&quot;</td></tr><tr><td>&quot;154222B86A338A…</td><td>&quot;electric_bike&quot;</td><td>&quot;2022-01-17 07:…</td><td>&quot;2022-01-17 08:…</td><td>&quot;Racine Ave &amp; 1…</td><td>&quot;13304&quot;</td><td>&quot;Clinton St &amp; W…</td><td>&quot;WL-012&quot;</td><td>41.861251</td><td>-87.6565</td><td>41.88338</td><td>-87.64117</td><td>&quot;member&quot;</td></tr><tr><td>&quot;72DC25B2DD467E…</td><td>&quot;classic_bike&quot;</td><td>&quot;2022-01-28 15:…</td><td>&quot;2022-01-28 15:…</td><td>&quot;LaSalle St &amp; J…</td><td>&quot;TA1309000004&quot;</td><td>&quot;Clinton St &amp; W…</td><td>&quot;WL-012&quot;</td><td>41.878166</td><td>-87.631929</td><td>41.88338</td><td>-87.64117</td><td>&quot;member&quot;</td></tr><tr><td>&quot;F20394FE09C63D…</td><td>&quot;classic_bike&quot;</td><td>&quot;2022-01-11 18:…</td><td>&quot;2022-01-11 18:…</td><td>&quot;LaSalle St &amp; J…</td><td>&quot;TA1309000004&quot;</td><td>&quot;Clinton St &amp; W…</td><td>&quot;WL-012&quot;</td><td>41.878166</td><td>-87.631929</td><td>41.88338</td><td>-87.64117</td><td>&quot;member&quot;</td></tr><tr><td>&quot;006D3F363CF960…</td><td>&quot;electric_bike&quot;</td><td>&quot;2022-01-29 12:…</td><td>&quot;2022-01-29 12:…</td><td>&quot;Clarendon Ave …</td><td>&quot;TA1307000119&quot;</td><td>&quot;Broadway &amp; Gra…</td><td>&quot;15571&quot;</td><td>41.967962</td><td>-87.650029</td><td>41.99478</td><td>-87.660285</td><td>&quot;member&quot;</td></tr><tr><td>&hellip;</td><td>&hellip;</td><td>&hellip;</td><td>&hellip;</td><td>&hellip;</td><td>&hellip;</td><td>&hellip;</td><td>&hellip;</td><td>&hellip;</td><td>&hellip;</td><td>&hellip;</td><td>&hellip;</td><td>&hellip;</td></tr><tr><td>&quot;09F5CDE5C122A3…</td><td>&quot;electric_bike&quot;</td><td>&quot;2022-01-22 01:…</td><td>&quot;2022-01-22 01:…</td><td>&quot;DuSable Lake S…</td><td>&quot;TA1309000049&quot;</td><td>null</td><td>null</td><td>41.940802</td><td>-87.6392</td><td>41.94</td><td>-87.64</td><td>&quot;member&quot;</td></tr><tr><td>&quot;4AE3011E7BA5AB…</td><td>&quot;electric_bike&quot;</td><td>&quot;2022-01-09 11:…</td><td>&quot;2022-01-09 11:…</td><td>&quot;Sangamon St &amp; …</td><td>&quot;13409&quot;</td><td>null</td><td>null</td><td>41.882855</td><td>-87.651274</td><td>41.89</td><td>-87.63</td><td>&quot;member&quot;</td></tr><tr><td>&quot;222422C4575505…</td><td>&quot;electric_bike&quot;</td><td>&quot;2022-01-13 09:…</td><td>&quot;2022-01-13 10:…</td><td>&quot;Milwaukee Ave …</td><td>&quot;13243&quot;</td><td>&quot;Kingsbury St &amp;…</td><td>&quot;KA1503000043&quot;</td><td>41.91267</td><td>-87.68155</td><td>41.889177</td><td>-87.638506</td><td>&quot;member&quot;</td></tr><tr><td>&quot;782596B099E070…</td><td>&quot;electric_bike&quot;</td><td>&quot;2022-01-13 08:…</td><td>&quot;2022-01-13 08:…</td><td>&quot;Milwaukee Ave …</td><td>&quot;13243&quot;</td><td>null</td><td>null</td><td>41.912611</td><td>-87.681402</td><td>41.89</td><td>-87.65</td><td>&quot;member&quot;</td></tr><tr><td>&quot;31E4A905D1CB27…</td><td>&quot;electric_bike&quot;</td><td>&quot;2022-01-13 20:…</td><td>&quot;2022-01-13 20:…</td><td>&quot;Milwaukee Ave …</td><td>&quot;13243&quot;</td><td>null</td><td>null</td><td>41.9127</td><td>-87.681444</td><td>41.92</td><td>-87.7</td><td>&quot;member&quot;</td></tr><tr><td>&quot;F62C4E58DB8DC1…</td><td>&quot;electric_bike&quot;</td><td>&quot;2022-01-19 16:…</td><td>&quot;2022-01-19 16:…</td><td>&quot;Broadway &amp; Wav…</td><td>&quot;13325&quot;</td><td>&quot;Clark St &amp; Gra…</td><td>&quot;TA1307000127&quot;</td><td>41.949079</td><td>-87.648614</td><td>41.95078</td><td>-87.659172</td><td>&quot;casual&quot;</td></tr><tr><td>&quot;9C80CD03B685B1…</td><td>&quot;electric_bike&quot;</td><td>&quot;2022-01-09 18:…</td><td>&quot;2022-01-09 19:…</td><td>&quot;Broadway &amp; Wav…</td><td>&quot;13325&quot;</td><td>null</td><td>null</td><td>41.949035</td><td>-87.648505</td><td>41.93</td><td>-87.64</td><td>&quot;casual&quot;</td></tr><tr><td>&quot;8788DA3EDE8FD8…</td><td>&quot;electric_bike&quot;</td><td>&quot;2022-01-18 12:…</td><td>&quot;2022-01-18 12:…</td><td>&quot;Clinton St &amp; W…</td><td>&quot;WL-012&quot;</td><td>null</td><td>null</td><td>41.883436</td><td>-87.641391</td><td>41.89</td><td>-87.62</td><td>&quot;casual&quot;</td></tr><tr><td>&quot;C6C3B64FDC827D…</td><td>&quot;electric_bike&quot;</td><td>&quot;2022-01-27 11:…</td><td>&quot;2022-01-27 11:…</td><td>&quot;Racine Ave &amp; R…</td><td>&quot;13155&quot;</td><td>null</td><td>null</td><td>41.884158</td><td>-87.656977</td><td>41.88</td><td>-87.65</td><td>&quot;casual&quot;</td></tr><tr><td>&quot;CA281AE7D8B06F…</td><td>&quot;electric_bike&quot;</td><td>&quot;2022-01-10 16:…</td><td>&quot;2022-01-10 16:…</td><td>&quot;Broadway &amp; Wav…</td><td>&quot;13325&quot;</td><td>&quot;Clark St &amp; Gra…</td><td>&quot;TA1307000127&quot;</td><td>41.949066</td><td>-87.648611</td><td>41.95078</td><td>-87.659172</td><td>&quot;casual&quot;</td></tr><tr><td>&quot;44E34899186231…</td><td>&quot;electric_bike&quot;</td><td>&quot;2022-01-19 13:…</td><td>&quot;2022-01-19 13:…</td><td>&quot;Racine Ave &amp; R…</td><td>&quot;13155&quot;</td><td>null</td><td>null</td><td>41.884005</td><td>-87.657031</td><td>41.88</td><td>-87.66</td><td>&quot;casual&quot;</td></tr><tr><td>&quot;E477C594A182AE…</td><td>&quot;electric_bike&quot;</td><td>&quot;2022-01-13 17:…</td><td>&quot;2022-01-13 17:…</td><td>&quot;Clinton St &amp; W…</td><td>&quot;WL-012&quot;</td><td>&quot;Desplaines St …</td><td>&quot;TA1306000003&quot;</td><td>41.883248</td><td>-87.641244</td><td>41.888716</td><td>-87.644448</td><td>&quot;casual&quot;</td></tr></tbody></table></div>"
      ],
      "text/plain": [
       "shape: (103_770, 13)\n",
       "┌───────────┬───────────┬───────────┬───────────┬───┬───────────┬───────────┬───────────┬──────────┐\n",
       "│ ride_id   ┆ rideable_ ┆ started_a ┆ ended_at  ┆ … ┆ start_lng ┆ end_lat   ┆ end_lng   ┆ member_c │\n",
       "│ ---       ┆ type      ┆ t         ┆ ---       ┆   ┆ ---       ┆ ---       ┆ ---       ┆ asual    │\n",
       "│ str       ┆ ---       ┆ ---       ┆ str       ┆   ┆ f64       ┆ f64       ┆ f64       ┆ ---      │\n",
       "│           ┆ str       ┆ str       ┆           ┆   ┆           ┆           ┆           ┆ str      │\n",
       "╞═══════════╪═══════════╪═══════════╪═══════════╪═══╪═══════════╪═══════════╪═══════════╪══════════╡\n",
       "│ C2F7DD78E ┆ electric_ ┆ 2022-01-1 ┆ 2022-01-1 ┆ … ┆ -87.66590 ┆ 42.01256  ┆ -87.67436 ┆ casual   │\n",
       "│ 82EC875   ┆ bike      ┆ 3         ┆ 3         ┆   ┆ 6         ┆           ┆ 7         ┆          │\n",
       "│           ┆           ┆ 11:59:47  ┆ 12:02:44  ┆   ┆           ┆           ┆           ┆          │\n",
       "│ A6CF8980A ┆ electric_ ┆ 2022-01-1 ┆ 2022-01-1 ┆ … ┆ -87.66596 ┆ 42.01256  ┆ -87.67436 ┆ casual   │\n",
       "│ 652D272   ┆ bike      ┆ 0         ┆ 0         ┆   ┆ 7         ┆           ┆ 7         ┆          │\n",
       "│           ┆           ┆ 08:41:56  ┆ 08:46:17  ┆   ┆           ┆           ┆           ┆          │\n",
       "│ BD0F91DFF ┆ classic_b ┆ 2022-01-2 ┆ 2022-01-2 ┆ … ┆ -87.65370 ┆ 41.92533  ┆ -87.6658  ┆ member   │\n",
       "│ 741C66D   ┆ ike       ┆ 5         ┆ 5         ┆   ┆ 8         ┆           ┆           ┆          │\n",
       "│           ┆           ┆ 04:53:40  ┆ 04:58:01  ┆   ┆           ┆           ┆           ┆          │\n",
       "│ CBB80ED41 ┆ classic_b ┆ 2022-01-0 ┆ 2022-01-0 ┆ … ┆ -87.66915 ┆ 41.961507 ┆ -87.67138 ┆ casual   │\n",
       "│ 9105406   ┆ ike       ┆ 4         ┆ 4         ┆   ┆ 4         ┆           ┆ 7         ┆          │\n",
       "│           ┆           ┆ 00:18:04  ┆ 00:33:00  ┆   ┆           ┆           ┆           ┆          │\n",
       "│ …         ┆ …         ┆ …         ┆ …         ┆ … ┆ …         ┆ …         ┆ …         ┆ …        │\n",
       "│ C6C3B64FD ┆ electric_ ┆ 2022-01-2 ┆ 2022-01-2 ┆ … ┆ -87.65697 ┆ 41.88     ┆ -87.65    ┆ casual   │\n",
       "│ C827D8C   ┆ bike      ┆ 7         ┆ 7         ┆   ┆ 7         ┆           ┆           ┆          │\n",
       "│           ┆           ┆ 11:00:06  ┆ 11:02:40  ┆   ┆           ┆           ┆           ┆          │\n",
       "│ CA281AE7D ┆ electric_ ┆ 2022-01-1 ┆ 2022-01-1 ┆ … ┆ -87.64861 ┆ 41.95078  ┆ -87.65917 ┆ casual   │\n",
       "│ 8B06F5A   ┆ bike      ┆ 0         ┆ 0         ┆   ┆ 1         ┆           ┆ 2         ┆          │\n",
       "│           ┆           ┆ 16:14:51  ┆ 16:20:58  ┆   ┆           ┆           ┆           ┆          │\n",
       "│ 44E348991 ┆ electric_ ┆ 2022-01-1 ┆ 2022-01-1 ┆ … ┆ -87.65703 ┆ 41.88     ┆ -87.66    ┆ casual   │\n",
       "│ 862319B   ┆ bike      ┆ 9         ┆ 9         ┆   ┆ 1         ┆           ┆           ┆          │\n",
       "│           ┆           ┆ 13:22:11  ┆ 13:24:27  ┆   ┆           ┆           ┆           ┆          │\n",
       "│ E477C594A ┆ electric_ ┆ 2022-01-1 ┆ 2022-01-1 ┆ … ┆ -87.64124 ┆ 41.888716 ┆ -87.64444 ┆ casual   │\n",
       "│ 182AE58   ┆ bike      ┆ 3         ┆ 3         ┆   ┆ 4         ┆           ┆ 8         ┆          │\n",
       "│           ┆           ┆ 17:24:43  ┆ 17:28:14  ┆   ┆           ┆           ┆           ┆          │\n",
       "└───────────┴───────────┴───────────┴───────────┴───┴───────────┴───────────┴───────────┴──────────┘"
      ]
     },
     "execution_count": 7,
     "metadata": {},
     "output_type": "execute_result"
    }
   ],
   "source": [
    "import polars as pl\n",
    "\n",
    "all_files = [f\"./datasets/{f}\" for f in listdir(\"./datasets\") if \"csv\" in f]\n",
    "\n",
    "df = pl.scan_csv(all_files[0]).collect()\n",
    "df"
   ]
  },
  {
   "cell_type": "markdown",
   "metadata": {},
   "source": [
    "## Exploring"
   ]
  },
  {
   "cell_type": "code",
   "execution_count": 8,
   "metadata": {},
   "outputs": [
    {
     "data": {
      "text/html": [
       "<div><style>\n",
       ".dataframe > thead > tr > th,\n",
       ".dataframe > tbody > tr > td {\n",
       "  text-align: right;\n",
       "}\n",
       "</style>\n",
       "<small>shape: (3, 2)</small><table border=\"1\" class=\"dataframe\"><thead><tr><th>rideable_type</th><th>counts</th></tr><tr><td>str</td><td>u32</td></tr></thead><tbody><tr><td>&quot;docked_bike&quot;</td><td>961</td></tr><tr><td>&quot;classic_bike&quot;</td><td>55067</td></tr><tr><td>&quot;electric_bike&quot;</td><td>47742</td></tr></tbody></table></div>"
      ],
      "text/plain": [
       "shape: (3, 2)\n",
       "┌───────────────┬────────┐\n",
       "│ rideable_type ┆ counts │\n",
       "│ ---           ┆ ---    │\n",
       "│ str           ┆ u32    │\n",
       "╞═══════════════╪════════╡\n",
       "│ docked_bike   ┆ 961    │\n",
       "│ classic_bike  ┆ 55067  │\n",
       "│ electric_bike ┆ 47742  │\n",
       "└───────────────┴────────┘"
      ]
     },
     "execution_count": 8,
     "metadata": {},
     "output_type": "execute_result"
    }
   ],
   "source": [
    "# It's necessary to know the number of each rideable type and the number of each user type.\n",
    "# The number of each rideable type.\n",
    "df_rideable_type = df['rideable_type'].value_counts()\n",
    "df_rideable_type"
   ]
  },
  {
   "cell_type": "code",
   "execution_count": 48,
   "metadata": {},
   "outputs": [
    {
     "data": {
      "text/html": [
       "<div><style>\n",
       ".dataframe > thead > tr > th,\n",
       ".dataframe > tbody > tr > td {\n",
       "  text-align: right;\n",
       "}\n",
       "</style>\n",
       "<small>shape: (2, 2)</small><table border=\"1\" class=\"dataframe\"><thead><tr><th>member_casual</th><th>counts</th></tr><tr><td>str</td><td>u32</td></tr></thead><tbody><tr><td>&quot;casual&quot;</td><td>18520</td></tr><tr><td>&quot;member&quot;</td><td>85250</td></tr></tbody></table></div>"
      ],
      "text/plain": [
       "shape: (2, 2)\n",
       "┌───────────────┬────────┐\n",
       "│ member_casual ┆ counts │\n",
       "│ ---           ┆ ---    │\n",
       "│ str           ┆ u32    │\n",
       "╞═══════════════╪════════╡\n",
       "│ casual        ┆ 18520  │\n",
       "│ member        ┆ 85250  │\n",
       "└───────────────┴────────┘"
      ]
     },
     "execution_count": 48,
     "metadata": {},
     "output_type": "execute_result"
    }
   ],
   "source": [
    "# The number of each user type.\n",
    "df_user_type = df['member_casual'].value_counts()\n",
    "df_user_type"
   ]
  },
  {
   "cell_type": "markdown",
   "metadata": {},
   "source": [
    "Each row of the file corresponds to a single trip and contains information such as the following:\n",
    "1. **ride_id**: A unique identifier for each trip\n",
    "2. **rideable_type**: The type of bike used for the trip\n",
    "    - Here i understand that has three types of bike: **classic_bike**, **docked_bike** and **electric_bike**.\n",
    "3. **started_at**: The date/time when the trip started, in UTC\n",
    "4. **ended_at**: The date/time when the trip ended, in UTC\n",
    "5. **start_station_name**: The station name where the trip originated\n",
    "6. **start_station_id**: A unique identifier for the station where the trip started\n",
    "7. **end_station_name**: The station name where the trip terminated\n",
    "8. **end_station_id**: A unique identifier for the station where the trip ended\n",
    "9. **start_lat**: The latitude of the station where the trip started\n",
    "10. **start_lng**: The longitude of the station where the trip started\n",
    "11. **end_lat**: The latitude of the station where the trip ended\n",
    "12. **end_lng**: The longitude of the station where the trip ended\n",
    "13. **member_casual**: Whether the ride was taken by a member or a casual user\n",
    "    - This field has two values: **member** and **casual** already mencioned above."
   ]
  },
  {
   "cell_type": "code",
   "execution_count": 10,
   "metadata": {},
   "outputs": [
    {
     "data": {
      "text/plain": [
       "(103770, 13)"
      ]
     },
     "execution_count": 10,
     "metadata": {},
     "output_type": "execute_result"
    }
   ],
   "source": [
    "df.shape"
   ]
  },
  {
   "cell_type": "code",
   "execution_count": 11,
   "metadata": {},
   "outputs": [
    {
     "data": {
      "text/html": [
       "<div><style>\n",
       ".dataframe > thead > tr > th,\n",
       ".dataframe > tbody > tr > td {\n",
       "  text-align: right;\n",
       "}\n",
       "</style>\n",
       "<small>shape: (9, 14)</small><table border=\"1\" class=\"dataframe\"><thead><tr><th>describe</th><th>ride_id</th><th>rideable_type</th><th>started_at</th><th>ended_at</th><th>start_station_name</th><th>start_station_id</th><th>end_station_name</th><th>end_station_id</th><th>start_lat</th><th>start_lng</th><th>end_lat</th><th>end_lng</th><th>member_casual</th></tr><tr><td>str</td><td>str</td><td>str</td><td>str</td><td>str</td><td>str</td><td>str</td><td>str</td><td>str</td><td>f64</td><td>f64</td><td>f64</td><td>f64</td><td>str</td></tr></thead><tbody><tr><td>&quot;count&quot;</td><td>&quot;103770&quot;</td><td>&quot;103770&quot;</td><td>&quot;103770&quot;</td><td>&quot;103770&quot;</td><td>&quot;103770&quot;</td><td>&quot;103770&quot;</td><td>&quot;103770&quot;</td><td>&quot;103770&quot;</td><td>103770.0</td><td>103770.0</td><td>103770.0</td><td>103770.0</td><td>&quot;103770&quot;</td></tr><tr><td>&quot;null_count&quot;</td><td>&quot;0&quot;</td><td>&quot;0&quot;</td><td>&quot;0&quot;</td><td>&quot;0&quot;</td><td>&quot;16260&quot;</td><td>&quot;16260&quot;</td><td>&quot;17927&quot;</td><td>&quot;17927&quot;</td><td>0.0</td><td>0.0</td><td>86.0</td><td>86.0</td><td>&quot;0&quot;</td></tr><tr><td>&quot;mean&quot;</td><td>null</td><td>null</td><td>null</td><td>null</td><td>null</td><td>null</td><td>null</td><td>null</td><td>41.89685</td><td>-87.648622</td><td>41.89695</td><td>-87.648964</td><td>null</td></tr><tr><td>&quot;std&quot;</td><td>null</td><td>null</td><td>null</td><td>null</td><td>null</td><td>null</td><td>null</td><td>null</td><td>0.049664</td><td>0.053199</td><td>0.0484</td><td>0.031342</td><td>null</td></tr><tr><td>&quot;min&quot;</td><td>&quot;00010C6E382D64…</td><td>&quot;classic_bike&quot;</td><td>&quot;2022-01-01 00:…</td><td>&quot;2022-01-01 00:…</td><td>&quot;2112 W Peterso…</td><td>&quot;13001&quot;</td><td>&quot;2112 W Peterso…</td><td>&quot;13001&quot;</td><td>41.65</td><td>-87.83</td><td>41.648501</td><td>-87.83</td><td>&quot;casual&quot;</td></tr><tr><td>&quot;max&quot;</td><td>&quot;FFFE5FA260E982…</td><td>&quot;electric_bike&quot;</td><td>&quot;2022-01-31 23:…</td><td>&quot;2022-02-01 01:…</td><td>&quot;Yates Blvd &amp; 9…</td><td>&quot;WL-012&quot;</td><td>&quot;Yates Blvd &amp; 9…</td><td>&quot;WL-012&quot;</td><td>45.635034</td><td>-73.796477</td><td>42.07</td><td>-87.52</td><td>&quot;member&quot;</td></tr><tr><td>&quot;median&quot;</td><td>null</td><td>null</td><td>null</td><td>null</td><td>null</td><td>null</td><td>null</td><td>null</td><td>41.894877</td><td>-87.644098</td><td>41.895501</td><td>-87.644098</td><td>null</td></tr><tr><td>&quot;25%&quot;</td><td>null</td><td>null</td><td>null</td><td>null</td><td>null</td><td>null</td><td>null</td><td>null</td><td>41.879255</td><td>-87.664169</td><td>41.879344</td><td>-87.664358</td><td>null</td></tr><tr><td>&quot;75%&quot;</td><td>null</td><td>null</td><td>null</td><td>null</td><td>null</td><td>null</td><td>null</td><td>null</td><td>41.925602</td><td>-87.629912</td><td>41.925602</td><td>-87.629912</td><td>null</td></tr></tbody></table></div>"
      ],
      "text/plain": [
       "shape: (9, 14)\n",
       "┌───────────┬───────────┬───────────┬───────────┬───┬───────────┬───────────┬───────────┬──────────┐\n",
       "│ describe  ┆ ride_id   ┆ rideable_ ┆ started_a ┆ … ┆ start_lng ┆ end_lat   ┆ end_lng   ┆ member_c │\n",
       "│ ---       ┆ ---       ┆ type      ┆ t         ┆   ┆ ---       ┆ ---       ┆ ---       ┆ asual    │\n",
       "│ str       ┆ str       ┆ ---       ┆ ---       ┆   ┆ f64       ┆ f64       ┆ f64       ┆ ---      │\n",
       "│           ┆           ┆ str       ┆ str       ┆   ┆           ┆           ┆           ┆ str      │\n",
       "╞═══════════╪═══════════╪═══════════╪═══════════╪═══╪═══════════╪═══════════╪═══════════╪══════════╡\n",
       "│ count     ┆ 103770    ┆ 103770    ┆ 103770    ┆ … ┆ 103770.0  ┆ 103770.0  ┆ 103770.0  ┆ 103770   │\n",
       "│ null_coun ┆ 0         ┆ 0         ┆ 0         ┆ … ┆ 0.0       ┆ 86.0      ┆ 86.0      ┆ 0        │\n",
       "│ t         ┆           ┆           ┆           ┆   ┆           ┆           ┆           ┆          │\n",
       "│ mean      ┆ null      ┆ null      ┆ null      ┆ … ┆ -87.64862 ┆ 41.89695  ┆ -87.64896 ┆ null     │\n",
       "│           ┆           ┆           ┆           ┆   ┆ 2         ┆           ┆ 4         ┆          │\n",
       "│ std       ┆ null      ┆ null      ┆ null      ┆ … ┆ 0.053199  ┆ 0.0484    ┆ 0.031342  ┆ null     │\n",
       "│ min       ┆ 00010C6E3 ┆ classic_b ┆ 2022-01-0 ┆ … ┆ -87.83    ┆ 41.648501 ┆ -87.83    ┆ casual   │\n",
       "│           ┆ 82D644C   ┆ ike       ┆ 1         ┆   ┆           ┆           ┆           ┆          │\n",
       "│           ┆           ┆           ┆ 00:00:05  ┆   ┆           ┆           ┆           ┆          │\n",
       "│ max       ┆ FFFE5FA26 ┆ electric_ ┆ 2022-01-3 ┆ … ┆ -73.79647 ┆ 42.07     ┆ -87.52    ┆ member   │\n",
       "│           ┆ 0E982B7   ┆ bike      ┆ 1         ┆   ┆ 7         ┆           ┆           ┆          │\n",
       "│           ┆           ┆           ┆ 23:58:37  ┆   ┆           ┆           ┆           ┆          │\n",
       "│ median    ┆ null      ┆ null      ┆ null      ┆ … ┆ -87.64409 ┆ 41.895501 ┆ -87.64409 ┆ null     │\n",
       "│           ┆           ┆           ┆           ┆   ┆ 8         ┆           ┆ 8         ┆          │\n",
       "│ 25%       ┆ null      ┆ null      ┆ null      ┆ … ┆ -87.66416 ┆ 41.879344 ┆ -87.66435 ┆ null     │\n",
       "│           ┆           ┆           ┆           ┆   ┆ 9         ┆           ┆ 8         ┆          │\n",
       "│ 75%       ┆ null      ┆ null      ┆ null      ┆ … ┆ -87.62991 ┆ 41.925602 ┆ -87.62991 ┆ null     │\n",
       "│           ┆           ┆           ┆           ┆   ┆ 2         ┆           ┆ 2         ┆          │\n",
       "└───────────┴───────────┴───────────┴───────────┴───┴───────────┴───────────┴───────────┴──────────┘"
      ]
     },
     "execution_count": 11,
     "metadata": {},
     "output_type": "execute_result"
    }
   ],
   "source": [
    "df.describe()"
   ]
  },
  {
   "cell_type": "code",
   "execution_count": 12,
   "metadata": {},
   "outputs": [
    {
     "name": "stdout",
     "output_type": "stream",
     "text": [
      "Defaulting to user installation because normal site-packages is not writeable\n",
      "Requirement already satisfied: plotly in /home/john/.local/lib/python3.11/site-packages (5.16.0)\n",
      "Requirement already satisfied: tenacity>=6.2.0 in /home/john/.local/lib/python3.11/site-packages (from plotly) (8.2.2)\n",
      "Requirement already satisfied: packaging in /usr/lib/python3.11/site-packages (from plotly) (23.0)\n",
      "Note: you may need to restart the kernel to use updated packages.\n",
      "Defaulting to user installation because normal site-packages is not writeable\n",
      "Requirement already satisfied: pandas in /home/john/.local/lib/python3.11/site-packages (2.0.3)\n",
      "Requirement already satisfied: python-dateutil>=2.8.2 in /usr/lib/python3.11/site-packages (from pandas) (2.8.2)\n",
      "Requirement already satisfied: pytz>=2020.1 in /home/john/.local/lib/python3.11/site-packages (from pandas) (2023.3)\n",
      "Requirement already satisfied: tzdata>=2022.1 in /home/john/.local/lib/python3.11/site-packages (from pandas) (2023.3)\n",
      "Requirement already satisfied: numpy>=1.21.0 in /home/john/.local/lib/python3.11/site-packages (from pandas) (1.25.2)\n",
      "Requirement already satisfied: six>=1.5 in /usr/lib/python3.11/site-packages (from python-dateutil>=2.8.2->pandas) (1.16.0)\n",
      "Note: you may need to restart the kernel to use updated packages.\n",
      "Defaulting to user installation because normal site-packages is not writeable\n",
      "Requirement already satisfied: pyarrow in /home/john/.local/lib/python3.11/site-packages (12.0.1)\n",
      "Requirement already satisfied: numpy>=1.16.6 in /home/john/.local/lib/python3.11/site-packages (from pyarrow) (1.25.2)\n",
      "Note: you may need to restart the kernel to use updated packages.\n",
      "Defaulting to user installation because normal site-packages is not writeable\n",
      "Requirement already satisfied: nbformat in /home/john/.local/lib/python3.11/site-packages (5.9.2)\n",
      "Requirement already satisfied: fastjsonschema in /home/john/.local/lib/python3.11/site-packages (from nbformat) (2.18.0)\n",
      "Requirement already satisfied: jsonschema>=2.6 in /home/john/.local/lib/python3.11/site-packages (from nbformat) (4.19.0)\n",
      "Requirement already satisfied: jupyter-core in /home/john/.local/lib/python3.11/site-packages (from nbformat) (5.3.1)\n",
      "Requirement already satisfied: traitlets>=5.1 in /home/john/.local/lib/python3.11/site-packages (from nbformat) (5.9.0)\n",
      "Requirement already satisfied: attrs>=22.2.0 in /home/john/.local/lib/python3.11/site-packages (from jsonschema>=2.6->nbformat) (23.1.0)\n",
      "Requirement already satisfied: jsonschema-specifications>=2023.03.6 in /home/john/.local/lib/python3.11/site-packages (from jsonschema>=2.6->nbformat) (2023.7.1)\n",
      "Requirement already satisfied: referencing>=0.28.4 in /home/john/.local/lib/python3.11/site-packages (from jsonschema>=2.6->nbformat) (0.30.2)\n",
      "Requirement already satisfied: rpds-py>=0.7.1 in /home/john/.local/lib/python3.11/site-packages (from jsonschema>=2.6->nbformat) (0.9.2)\n",
      "Requirement already satisfied: platformdirs>=2.5 in /home/john/.local/lib/python3.11/site-packages (from jupyter-core->nbformat) (3.10.0)\n",
      "Note: you may need to restart the kernel to use updated packages.\n"
     ]
    }
   ],
   "source": [
    "%pip install plotly\n",
    "%pip install pandas\n",
    "%pip install pyarrow\n",
    "%pip install nbformat"
   ]
  },
  {
   "cell_type": "code",
   "execution_count": 49,
   "metadata": {},
   "outputs": [
    {
     "data": {
      "application/vnd.plotly.v1+json": {
       "config": {
        "plotlyServerURL": "https://plot.ly"
       },
       "data": [
        {
         "geo": "geo",
         "hovertemplate": "<b>%{hovertext}</b><br><br>start_lat=%{lat}<br>start_lng=%{lon}<extra></extra>",
         "hovertext": [
          null,
          null,
          null,
          null,
          null,
          null,
          null,
          null,
          null,
          null,
          null,
          null,
          null,
          null,
          null,
          null,
          null,
          null,
          null,
          null,
          null,
          null,
          null,
          null,
          null,
          null,
          null,
          null,
          null,
          null,
          null,
          null,
          null,
          null,
          null,
          null,
          null,
          null,
          null,
          null,
          null,
          null,
          null,
          null,
          null,
          null,
          null,
          null,
          null,
          null
         ],
         "lat": [
          41.93,
          41.95,
          41.92,
          41.91,
          41.91,
          41.83,
          41.8,
          41.91,
          41.94,
          41.9,
          41.92,
          41.85,
          41.9,
          41.88,
          41.97,
          41.9,
          41.89,
          41.88,
          41.95,
          41.93,
          41.9,
          41.93,
          41.8,
          41.8,
          41.79,
          41.8,
          41.8,
          41.8,
          41.88,
          41.79,
          41.84,
          41.89,
          41.93,
          41.9,
          41.88,
          41.89,
          41.8,
          41.91,
          41.91,
          41.9,
          41.92,
          41.89,
          41.92,
          41.93,
          41.91,
          41.91,
          41.9,
          41.91,
          41.9,
          41.93
         ],
         "legendgroup": "",
         "lon": [
          -87.76,
          -87.65,
          -87.69,
          -87.69,
          -87.69,
          -87.62,
          -87.59,
          -87.69,
          -87.7,
          -87.67,
          -87.64,
          -87.7,
          -87.66,
          -87.67,
          -87.69,
          -87.69,
          -87.63,
          -87.66,
          -87.65,
          -87.71,
          -87.65,
          -87.71,
          -87.6,
          -87.59,
          -87.6,
          -87.59,
          -87.59,
          -87.59,
          -87.67,
          -87.6,
          -87.64,
          -87.63,
          -87.65,
          -87.69,
          -87.63,
          -87.62,
          -87.72,
          -87.64,
          -87.66,
          -87.69,
          -87.72,
          -87.63,
          -87.71,
          -87.69,
          -87.7,
          -87.65,
          -87.63,
          -87.63,
          -87.69,
          -87.69
         ],
         "marker": {
          "color": "#636efa",
          "symbol": "circle"
         },
         "mode": "markers",
         "name": "",
         "showlegend": false,
         "type": "scattergeo"
        }
       ],
       "layout": {
        "geo": {
         "center": {},
         "domain": {
          "x": [
           0,
           1
          ],
          "y": [
           0,
           1
          ]
         }
        },
        "legend": {
         "tracegroupgap": 0
        },
        "template": {
         "data": {
          "bar": [
           {
            "error_x": {
             "color": "#2a3f5f"
            },
            "error_y": {
             "color": "#2a3f5f"
            },
            "marker": {
             "line": {
              "color": "#E5ECF6",
              "width": 0.5
             },
             "pattern": {
              "fillmode": "overlay",
              "size": 10,
              "solidity": 0.2
             }
            },
            "type": "bar"
           }
          ],
          "barpolar": [
           {
            "marker": {
             "line": {
              "color": "#E5ECF6",
              "width": 0.5
             },
             "pattern": {
              "fillmode": "overlay",
              "size": 10,
              "solidity": 0.2
             }
            },
            "type": "barpolar"
           }
          ],
          "carpet": [
           {
            "aaxis": {
             "endlinecolor": "#2a3f5f",
             "gridcolor": "white",
             "linecolor": "white",
             "minorgridcolor": "white",
             "startlinecolor": "#2a3f5f"
            },
            "baxis": {
             "endlinecolor": "#2a3f5f",
             "gridcolor": "white",
             "linecolor": "white",
             "minorgridcolor": "white",
             "startlinecolor": "#2a3f5f"
            },
            "type": "carpet"
           }
          ],
          "choropleth": [
           {
            "colorbar": {
             "outlinewidth": 0,
             "ticks": ""
            },
            "type": "choropleth"
           }
          ],
          "contour": [
           {
            "colorbar": {
             "outlinewidth": 0,
             "ticks": ""
            },
            "colorscale": [
             [
              0,
              "#0d0887"
             ],
             [
              0.1111111111111111,
              "#46039f"
             ],
             [
              0.2222222222222222,
              "#7201a8"
             ],
             [
              0.3333333333333333,
              "#9c179e"
             ],
             [
              0.4444444444444444,
              "#bd3786"
             ],
             [
              0.5555555555555556,
              "#d8576b"
             ],
             [
              0.6666666666666666,
              "#ed7953"
             ],
             [
              0.7777777777777778,
              "#fb9f3a"
             ],
             [
              0.8888888888888888,
              "#fdca26"
             ],
             [
              1,
              "#f0f921"
             ]
            ],
            "type": "contour"
           }
          ],
          "contourcarpet": [
           {
            "colorbar": {
             "outlinewidth": 0,
             "ticks": ""
            },
            "type": "contourcarpet"
           }
          ],
          "heatmap": [
           {
            "colorbar": {
             "outlinewidth": 0,
             "ticks": ""
            },
            "colorscale": [
             [
              0,
              "#0d0887"
             ],
             [
              0.1111111111111111,
              "#46039f"
             ],
             [
              0.2222222222222222,
              "#7201a8"
             ],
             [
              0.3333333333333333,
              "#9c179e"
             ],
             [
              0.4444444444444444,
              "#bd3786"
             ],
             [
              0.5555555555555556,
              "#d8576b"
             ],
             [
              0.6666666666666666,
              "#ed7953"
             ],
             [
              0.7777777777777778,
              "#fb9f3a"
             ],
             [
              0.8888888888888888,
              "#fdca26"
             ],
             [
              1,
              "#f0f921"
             ]
            ],
            "type": "heatmap"
           }
          ],
          "heatmapgl": [
           {
            "colorbar": {
             "outlinewidth": 0,
             "ticks": ""
            },
            "colorscale": [
             [
              0,
              "#0d0887"
             ],
             [
              0.1111111111111111,
              "#46039f"
             ],
             [
              0.2222222222222222,
              "#7201a8"
             ],
             [
              0.3333333333333333,
              "#9c179e"
             ],
             [
              0.4444444444444444,
              "#bd3786"
             ],
             [
              0.5555555555555556,
              "#d8576b"
             ],
             [
              0.6666666666666666,
              "#ed7953"
             ],
             [
              0.7777777777777778,
              "#fb9f3a"
             ],
             [
              0.8888888888888888,
              "#fdca26"
             ],
             [
              1,
              "#f0f921"
             ]
            ],
            "type": "heatmapgl"
           }
          ],
          "histogram": [
           {
            "marker": {
             "pattern": {
              "fillmode": "overlay",
              "size": 10,
              "solidity": 0.2
             }
            },
            "type": "histogram"
           }
          ],
          "histogram2d": [
           {
            "colorbar": {
             "outlinewidth": 0,
             "ticks": ""
            },
            "colorscale": [
             [
              0,
              "#0d0887"
             ],
             [
              0.1111111111111111,
              "#46039f"
             ],
             [
              0.2222222222222222,
              "#7201a8"
             ],
             [
              0.3333333333333333,
              "#9c179e"
             ],
             [
              0.4444444444444444,
              "#bd3786"
             ],
             [
              0.5555555555555556,
              "#d8576b"
             ],
             [
              0.6666666666666666,
              "#ed7953"
             ],
             [
              0.7777777777777778,
              "#fb9f3a"
             ],
             [
              0.8888888888888888,
              "#fdca26"
             ],
             [
              1,
              "#f0f921"
             ]
            ],
            "type": "histogram2d"
           }
          ],
          "histogram2dcontour": [
           {
            "colorbar": {
             "outlinewidth": 0,
             "ticks": ""
            },
            "colorscale": [
             [
              0,
              "#0d0887"
             ],
             [
              0.1111111111111111,
              "#46039f"
             ],
             [
              0.2222222222222222,
              "#7201a8"
             ],
             [
              0.3333333333333333,
              "#9c179e"
             ],
             [
              0.4444444444444444,
              "#bd3786"
             ],
             [
              0.5555555555555556,
              "#d8576b"
             ],
             [
              0.6666666666666666,
              "#ed7953"
             ],
             [
              0.7777777777777778,
              "#fb9f3a"
             ],
             [
              0.8888888888888888,
              "#fdca26"
             ],
             [
              1,
              "#f0f921"
             ]
            ],
            "type": "histogram2dcontour"
           }
          ],
          "mesh3d": [
           {
            "colorbar": {
             "outlinewidth": 0,
             "ticks": ""
            },
            "type": "mesh3d"
           }
          ],
          "parcoords": [
           {
            "line": {
             "colorbar": {
              "outlinewidth": 0,
              "ticks": ""
             }
            },
            "type": "parcoords"
           }
          ],
          "pie": [
           {
            "automargin": true,
            "type": "pie"
           }
          ],
          "scatter": [
           {
            "fillpattern": {
             "fillmode": "overlay",
             "size": 10,
             "solidity": 0.2
            },
            "type": "scatter"
           }
          ],
          "scatter3d": [
           {
            "line": {
             "colorbar": {
              "outlinewidth": 0,
              "ticks": ""
             }
            },
            "marker": {
             "colorbar": {
              "outlinewidth": 0,
              "ticks": ""
             }
            },
            "type": "scatter3d"
           }
          ],
          "scattercarpet": [
           {
            "marker": {
             "colorbar": {
              "outlinewidth": 0,
              "ticks": ""
             }
            },
            "type": "scattercarpet"
           }
          ],
          "scattergeo": [
           {
            "marker": {
             "colorbar": {
              "outlinewidth": 0,
              "ticks": ""
             }
            },
            "type": "scattergeo"
           }
          ],
          "scattergl": [
           {
            "marker": {
             "colorbar": {
              "outlinewidth": 0,
              "ticks": ""
             }
            },
            "type": "scattergl"
           }
          ],
          "scattermapbox": [
           {
            "marker": {
             "colorbar": {
              "outlinewidth": 0,
              "ticks": ""
             }
            },
            "type": "scattermapbox"
           }
          ],
          "scatterpolar": [
           {
            "marker": {
             "colorbar": {
              "outlinewidth": 0,
              "ticks": ""
             }
            },
            "type": "scatterpolar"
           }
          ],
          "scatterpolargl": [
           {
            "marker": {
             "colorbar": {
              "outlinewidth": 0,
              "ticks": ""
             }
            },
            "type": "scatterpolargl"
           }
          ],
          "scatterternary": [
           {
            "marker": {
             "colorbar": {
              "outlinewidth": 0,
              "ticks": ""
             }
            },
            "type": "scatterternary"
           }
          ],
          "surface": [
           {
            "colorbar": {
             "outlinewidth": 0,
             "ticks": ""
            },
            "colorscale": [
             [
              0,
              "#0d0887"
             ],
             [
              0.1111111111111111,
              "#46039f"
             ],
             [
              0.2222222222222222,
              "#7201a8"
             ],
             [
              0.3333333333333333,
              "#9c179e"
             ],
             [
              0.4444444444444444,
              "#bd3786"
             ],
             [
              0.5555555555555556,
              "#d8576b"
             ],
             [
              0.6666666666666666,
              "#ed7953"
             ],
             [
              0.7777777777777778,
              "#fb9f3a"
             ],
             [
              0.8888888888888888,
              "#fdca26"
             ],
             [
              1,
              "#f0f921"
             ]
            ],
            "type": "surface"
           }
          ],
          "table": [
           {
            "cells": {
             "fill": {
              "color": "#EBF0F8"
             },
             "line": {
              "color": "white"
             }
            },
            "header": {
             "fill": {
              "color": "#C8D4E3"
             },
             "line": {
              "color": "white"
             }
            },
            "type": "table"
           }
          ]
         },
         "layout": {
          "annotationdefaults": {
           "arrowcolor": "#2a3f5f",
           "arrowhead": 0,
           "arrowwidth": 1
          },
          "autotypenumbers": "strict",
          "coloraxis": {
           "colorbar": {
            "outlinewidth": 0,
            "ticks": ""
           }
          },
          "colorscale": {
           "diverging": [
            [
             0,
             "#8e0152"
            ],
            [
             0.1,
             "#c51b7d"
            ],
            [
             0.2,
             "#de77ae"
            ],
            [
             0.3,
             "#f1b6da"
            ],
            [
             0.4,
             "#fde0ef"
            ],
            [
             0.5,
             "#f7f7f7"
            ],
            [
             0.6,
             "#e6f5d0"
            ],
            [
             0.7,
             "#b8e186"
            ],
            [
             0.8,
             "#7fbc41"
            ],
            [
             0.9,
             "#4d9221"
            ],
            [
             1,
             "#276419"
            ]
           ],
           "sequential": [
            [
             0,
             "#0d0887"
            ],
            [
             0.1111111111111111,
             "#46039f"
            ],
            [
             0.2222222222222222,
             "#7201a8"
            ],
            [
             0.3333333333333333,
             "#9c179e"
            ],
            [
             0.4444444444444444,
             "#bd3786"
            ],
            [
             0.5555555555555556,
             "#d8576b"
            ],
            [
             0.6666666666666666,
             "#ed7953"
            ],
            [
             0.7777777777777778,
             "#fb9f3a"
            ],
            [
             0.8888888888888888,
             "#fdca26"
            ],
            [
             1,
             "#f0f921"
            ]
           ],
           "sequentialminus": [
            [
             0,
             "#0d0887"
            ],
            [
             0.1111111111111111,
             "#46039f"
            ],
            [
             0.2222222222222222,
             "#7201a8"
            ],
            [
             0.3333333333333333,
             "#9c179e"
            ],
            [
             0.4444444444444444,
             "#bd3786"
            ],
            [
             0.5555555555555556,
             "#d8576b"
            ],
            [
             0.6666666666666666,
             "#ed7953"
            ],
            [
             0.7777777777777778,
             "#fb9f3a"
            ],
            [
             0.8888888888888888,
             "#fdca26"
            ],
            [
             1,
             "#f0f921"
            ]
           ]
          },
          "colorway": [
           "#636efa",
           "#EF553B",
           "#00cc96",
           "#ab63fa",
           "#FFA15A",
           "#19d3f3",
           "#FF6692",
           "#B6E880",
           "#FF97FF",
           "#FECB52"
          ],
          "font": {
           "color": "#2a3f5f"
          },
          "geo": {
           "bgcolor": "white",
           "lakecolor": "white",
           "landcolor": "#E5ECF6",
           "showlakes": true,
           "showland": true,
           "subunitcolor": "white"
          },
          "hoverlabel": {
           "align": "left"
          },
          "hovermode": "closest",
          "mapbox": {
           "style": "light"
          },
          "paper_bgcolor": "white",
          "plot_bgcolor": "#E5ECF6",
          "polar": {
           "angularaxis": {
            "gridcolor": "white",
            "linecolor": "white",
            "ticks": ""
           },
           "bgcolor": "#E5ECF6",
           "radialaxis": {
            "gridcolor": "white",
            "linecolor": "white",
            "ticks": ""
           }
          },
          "scene": {
           "xaxis": {
            "backgroundcolor": "#E5ECF6",
            "gridcolor": "white",
            "gridwidth": 2,
            "linecolor": "white",
            "showbackground": true,
            "ticks": "",
            "zerolinecolor": "white"
           },
           "yaxis": {
            "backgroundcolor": "#E5ECF6",
            "gridcolor": "white",
            "gridwidth": 2,
            "linecolor": "white",
            "showbackground": true,
            "ticks": "",
            "zerolinecolor": "white"
           },
           "zaxis": {
            "backgroundcolor": "#E5ECF6",
            "gridcolor": "white",
            "gridwidth": 2,
            "linecolor": "white",
            "showbackground": true,
            "ticks": "",
            "zerolinecolor": "white"
           }
          },
          "shapedefaults": {
           "line": {
            "color": "#2a3f5f"
           }
          },
          "ternary": {
           "aaxis": {
            "gridcolor": "white",
            "linecolor": "white",
            "ticks": ""
           },
           "baxis": {
            "gridcolor": "white",
            "linecolor": "white",
            "ticks": ""
           },
           "bgcolor": "#E5ECF6",
           "caxis": {
            "gridcolor": "white",
            "linecolor": "white",
            "ticks": ""
           }
          },
          "title": {
           "x": 0.05
          },
          "xaxis": {
           "automargin": true,
           "gridcolor": "white",
           "linecolor": "white",
           "ticks": "",
           "title": {
            "standoff": 15
           },
           "zerolinecolor": "white",
           "zerolinewidth": 2
          },
          "yaxis": {
           "automargin": true,
           "gridcolor": "white",
           "linecolor": "white",
           "ticks": "",
           "title": {
            "standoff": 15
           },
           "zerolinecolor": "white",
           "zerolinewidth": 2
          }
         }
        },
        "title": {
         "text": "Earthquakes Around the World"
        }
       }
      }
     },
     "metadata": {},
     "output_type": "display_data"
    }
   ],
   "source": [
    "import plotly.express as px\n",
    "\n",
    "fig = px.scatter_geo(df.filter(pl.col('start_station_id') == None).head(50), lat='start_lat', lon='start_lng',\n",
    "                     hover_name='start_station_name', color_continuous_scale='reds',\n",
    "                     title='Earthquakes Around the World')\n",
    "fig.show()"
   ]
  },
  {
   "cell_type": "code",
   "execution_count": 61,
   "metadata": {},
   "outputs": [
    {
     "data": {
      "text/html": [
       "<div><style>\n",
       ".dataframe > thead > tr > th,\n",
       ".dataframe > tbody > tr > td {\n",
       "  text-align: right;\n",
       "}\n",
       "</style>\n",
       "<small>shape: (16_260, 13)</small><table border=\"1\" class=\"dataframe\"><thead><tr><th>ride_id</th><th>rideable_type</th><th>started_at</th><th>ended_at</th><th>start_station_name</th><th>start_station_id</th><th>end_station_name</th><th>end_station_id</th><th>start_lat</th><th>start_lng</th><th>end_lat</th><th>end_lng</th><th>member_casual</th></tr><tr><td>str</td><td>str</td><td>str</td><td>str</td><td>str</td><td>str</td><td>str</td><td>str</td><td>f64</td><td>f64</td><td>f64</td><td>f64</td><td>str</td></tr></thead><tbody><tr><td>&quot;857B71104B4375…</td><td>&quot;electric_bike&quot;</td><td>&quot;2022-01-04 17:…</td><td>&quot;2022-01-04 17:…</td><td>null</td><td>null</td><td>&quot;Lockwood Ave &amp;…</td><td>&quot;312&quot;</td><td>41.93</td><td>-87.76</td><td>41.93</td><td>-87.76</td><td>&quot;casual&quot;</td></tr><tr><td>&quot;565EEF32A9B650…</td><td>&quot;electric_bike&quot;</td><td>&quot;2022-01-11 21:…</td><td>&quot;2022-01-11 21:…</td><td>null</td><td>null</td><td>&quot;Ashland Ave &amp; …</td><td>&quot;13319&quot;</td><td>41.95</td><td>-87.65</td><td>41.950687</td><td>-87.6687</td><td>&quot;member&quot;</td></tr><tr><td>&quot;C1C1910260144C…</td><td>&quot;electric_bike&quot;</td><td>&quot;2022-01-05 03:…</td><td>&quot;2022-01-05 03:…</td><td>null</td><td>null</td><td>&quot;Ashland Ave &amp; …</td><td>&quot;13319&quot;</td><td>41.92</td><td>-87.69</td><td>41.950687</td><td>-87.6687</td><td>&quot;member&quot;</td></tr><tr><td>&quot;A3CE9212720037…</td><td>&quot;electric_bike&quot;</td><td>&quot;2022-01-18 07:…</td><td>&quot;2022-01-18 07:…</td><td>null</td><td>null</td><td>&quot;Southport Ave …</td><td>&quot;TA1309000030&quot;</td><td>41.91</td><td>-87.69</td><td>41.920771</td><td>-87.663712</td><td>&quot;member&quot;</td></tr><tr><td>&quot;A285AF99096A99…</td><td>&quot;electric_bike&quot;</td><td>&quot;2022-01-14 11:…</td><td>&quot;2022-01-14 11:…</td><td>null</td><td>null</td><td>&quot;Southport Ave …</td><td>&quot;TA1309000030&quot;</td><td>41.91</td><td>-87.69</td><td>41.920771</td><td>-87.663712</td><td>&quot;member&quot;</td></tr><tr><td>&quot;80F29B80E0DF90…</td><td>&quot;electric_bike&quot;</td><td>&quot;2022-01-03 16:…</td><td>&quot;2022-01-03 16:…</td><td>null</td><td>null</td><td>&quot;Wallace St &amp; 3…</td><td>&quot;TA1308000045&quot;</td><td>41.83</td><td>-87.62</td><td>41.831014</td><td>-87.641184</td><td>&quot;member&quot;</td></tr><tr><td>&quot;5D1029D15EA45D…</td><td>&quot;electric_bike&quot;</td><td>&quot;2022-01-08 13:…</td><td>&quot;2022-01-08 13:…</td><td>null</td><td>null</td><td>&quot;Woodlawn Ave &amp;…</td><td>&quot;KA1503000065&quot;</td><td>41.8</td><td>-87.59</td><td>41.814093</td><td>-87.597005</td><td>&quot;member&quot;</td></tr><tr><td>&quot;14AAFBC4ACE693…</td><td>&quot;electric_bike&quot;</td><td>&quot;2022-01-02 14:…</td><td>&quot;2022-01-02 15:…</td><td>null</td><td>null</td><td>&quot;Damen Ave &amp; Wa…</td><td>&quot;20.0&quot;</td><td>41.91</td><td>-87.69</td><td>41.91</td><td>-87.68</td><td>&quot;member&quot;</td></tr><tr><td>&quot;F8F5A55A2318BA…</td><td>&quot;electric_bike&quot;</td><td>&quot;2022-01-08 16:…</td><td>&quot;2022-01-08 16:…</td><td>null</td><td>null</td><td>&quot;Damen Ave &amp; Wa…</td><td>&quot;20.0&quot;</td><td>41.94</td><td>-87.7</td><td>41.91</td><td>-87.68</td><td>&quot;member&quot;</td></tr><tr><td>&quot;09BBB0D56ADEF6…</td><td>&quot;electric_bike&quot;</td><td>&quot;2022-01-01 22:…</td><td>&quot;2022-01-01 23:…</td><td>null</td><td>null</td><td>&quot;Kilpatrick Ave…</td><td>&quot;358&quot;</td><td>41.9</td><td>-87.67</td><td>41.93</td><td>-87.74</td><td>&quot;casual&quot;</td></tr><tr><td>&quot;1B375717518E57…</td><td>&quot;electric_bike&quot;</td><td>&quot;2022-01-10 05:…</td><td>&quot;2022-01-10 05:…</td><td>null</td><td>null</td><td>&quot;Dearborn St &amp; …</td><td>&quot;13045&quot;</td><td>41.92</td><td>-87.64</td><td>41.893992</td><td>-87.629318</td><td>&quot;member&quot;</td></tr><tr><td>&quot;3955D820D4EA50…</td><td>&quot;electric_bike&quot;</td><td>&quot;2022-01-20 17:…</td><td>&quot;2022-01-20 17:…</td><td>null</td><td>null</td><td>&quot;Dearborn St &amp; …</td><td>&quot;13045&quot;</td><td>41.85</td><td>-87.7</td><td>41.893992</td><td>-87.629318</td><td>&quot;member&quot;</td></tr><tr><td>&hellip;</td><td>&hellip;</td><td>&hellip;</td><td>&hellip;</td><td>&hellip;</td><td>&hellip;</td><td>&hellip;</td><td>&hellip;</td><td>&hellip;</td><td>&hellip;</td><td>&hellip;</td><td>&hellip;</td><td>&hellip;</td></tr><tr><td>&quot;1E92A73A45C6F4…</td><td>&quot;electric_bike&quot;</td><td>&quot;2022-01-04 20:…</td><td>&quot;2022-01-04 20:…</td><td>null</td><td>null</td><td>null</td><td>null</td><td>41.94</td><td>-87.7</td><td>41.95</td><td>-87.69</td><td>&quot;member&quot;</td></tr><tr><td>&quot;5DC8902A984419…</td><td>&quot;electric_bike&quot;</td><td>&quot;2022-01-15 14:…</td><td>&quot;2022-01-15 15:…</td><td>null</td><td>null</td><td>null</td><td>null</td><td>41.93</td><td>-87.74</td><td>41.9</td><td>-87.67</td><td>&quot;casual&quot;</td></tr><tr><td>&quot;5C9E45FF50826E…</td><td>&quot;electric_bike&quot;</td><td>&quot;2022-01-15 16:…</td><td>&quot;2022-01-15 16:…</td><td>null</td><td>null</td><td>null</td><td>null</td><td>41.93</td><td>-87.7</td><td>41.93</td><td>-87.69</td><td>&quot;casual&quot;</td></tr><tr><td>&quot;5FF978D3FE48C9…</td><td>&quot;electric_bike&quot;</td><td>&quot;2022-01-15 00:…</td><td>&quot;2022-01-15 00:…</td><td>null</td><td>null</td><td>null</td><td>null</td><td>41.79</td><td>-87.6</td><td>41.8</td><td>-87.61</td><td>&quot;casual&quot;</td></tr><tr><td>&quot;BAC645372E58F8…</td><td>&quot;electric_bike&quot;</td><td>&quot;2022-01-27 19:…</td><td>&quot;2022-01-27 19:…</td><td>null</td><td>null</td><td>null</td><td>null</td><td>41.94</td><td>-87.7</td><td>41.94</td><td>-87.7</td><td>&quot;casual&quot;</td></tr><tr><td>&quot;3AC6E5A68E4E51…</td><td>&quot;electric_bike&quot;</td><td>&quot;2022-01-27 19:…</td><td>&quot;2022-01-27 19:…</td><td>null</td><td>null</td><td>null</td><td>null</td><td>41.94</td><td>-87.7</td><td>41.94</td><td>-87.7</td><td>&quot;casual&quot;</td></tr><tr><td>&quot;93F3F7B5A282DB…</td><td>&quot;electric_bike&quot;</td><td>&quot;2022-01-27 19:…</td><td>&quot;2022-01-27 19:…</td><td>null</td><td>null</td><td>null</td><td>null</td><td>41.94</td><td>-87.7</td><td>41.94</td><td>-87.7</td><td>&quot;casual&quot;</td></tr><tr><td>&quot;458783DD2A65A8…</td><td>&quot;electric_bike&quot;</td><td>&quot;2022-01-21 09:…</td><td>&quot;2022-01-21 09:…</td><td>null</td><td>null</td><td>null</td><td>null</td><td>41.79</td><td>-87.71</td><td>41.78</td><td>-87.71</td><td>&quot;casual&quot;</td></tr><tr><td>&quot;DB4D9FAF28D2A2…</td><td>&quot;electric_bike&quot;</td><td>&quot;2022-01-21 16:…</td><td>&quot;2022-01-21 16:…</td><td>null</td><td>null</td><td>null</td><td>null</td><td>41.95</td><td>-87.74</td><td>41.94</td><td>-87.74</td><td>&quot;casual&quot;</td></tr><tr><td>&quot;B2229B714A3565…</td><td>&quot;electric_bike&quot;</td><td>&quot;2022-01-21 15:…</td><td>&quot;2022-01-21 15:…</td><td>null</td><td>null</td><td>null</td><td>null</td><td>41.8</td><td>-87.59</td><td>41.8</td><td>-87.58</td><td>&quot;casual&quot;</td></tr><tr><td>&quot;F6FB0DF042DE41…</td><td>&quot;electric_bike&quot;</td><td>&quot;2022-01-12 15:…</td><td>&quot;2022-01-12 15:…</td><td>null</td><td>null</td><td>null</td><td>null</td><td>41.79</td><td>-87.6</td><td>41.79</td><td>-87.6</td><td>&quot;casual&quot;</td></tr><tr><td>&quot;D07F1057542A9F…</td><td>&quot;electric_bike&quot;</td><td>&quot;2022-01-12 11:…</td><td>&quot;2022-01-12 11:…</td><td>null</td><td>null</td><td>null</td><td>null</td><td>41.89</td><td>-87.63</td><td>41.88</td><td>-87.62</td><td>&quot;casual&quot;</td></tr></tbody></table></div>"
      ],
      "text/plain": [
       "shape: (16_260, 13)\n",
       "┌───────────┬───────────┬───────────┬───────────┬───┬───────────┬───────────┬───────────┬──────────┐\n",
       "│ ride_id   ┆ rideable_ ┆ started_a ┆ ended_at  ┆ … ┆ start_lng ┆ end_lat   ┆ end_lng   ┆ member_c │\n",
       "│ ---       ┆ type      ┆ t         ┆ ---       ┆   ┆ ---       ┆ ---       ┆ ---       ┆ asual    │\n",
       "│ str       ┆ ---       ┆ ---       ┆ str       ┆   ┆ f64       ┆ f64       ┆ f64       ┆ ---      │\n",
       "│           ┆ str       ┆ str       ┆           ┆   ┆           ┆           ┆           ┆ str      │\n",
       "╞═══════════╪═══════════╪═══════════╪═══════════╪═══╪═══════════╪═══════════╪═══════════╪══════════╡\n",
       "│ 857B71104 ┆ electric_ ┆ 2022-01-0 ┆ 2022-01-0 ┆ … ┆ -87.76    ┆ 41.93     ┆ -87.76    ┆ casual   │\n",
       "│ B437577   ┆ bike      ┆ 4         ┆ 4         ┆   ┆           ┆           ┆           ┆          │\n",
       "│           ┆           ┆ 17:08:16  ┆ 17:12:15  ┆   ┆           ┆           ┆           ┆          │\n",
       "│ 565EEF32A ┆ electric_ ┆ 2022-01-1 ┆ 2022-01-1 ┆ … ┆ -87.65    ┆ 41.950687 ┆ -87.6687  ┆ member   │\n",
       "│ 9B65000   ┆ bike      ┆ 1         ┆ 1         ┆   ┆           ┆           ┆           ┆          │\n",
       "│           ┆           ┆ 21:51:25  ┆ 21:55:27  ┆   ┆           ┆           ┆           ┆          │\n",
       "│ C1C191026 ┆ electric_ ┆ 2022-01-0 ┆ 2022-01-0 ┆ … ┆ -87.69    ┆ 41.950687 ┆ -87.6687  ┆ member   │\n",
       "│ 0144C76   ┆ bike      ┆ 5         ┆ 5         ┆   ┆           ┆           ┆           ┆          │\n",
       "│           ┆           ┆ 03:25:22  ┆ 03:43:32  ┆   ┆           ┆           ┆           ┆          │\n",
       "│ A3CE92127 ┆ electric_ ┆ 2022-01-1 ┆ 2022-01-1 ┆ … ┆ -87.69    ┆ 41.920771 ┆ -87.66371 ┆ member   │\n",
       "│ 2003727   ┆ bike      ┆ 8         ┆ 8         ┆   ┆           ┆           ┆ 2         ┆          │\n",
       "│           ┆           ┆ 07:01:29  ┆ 07:14:08  ┆   ┆           ┆           ┆           ┆          │\n",
       "│ …         ┆ …         ┆ …         ┆ …         ┆ … ┆ …         ┆ …         ┆ …         ┆ …        │\n",
       "│ DB4D9FAF2 ┆ electric_ ┆ 2022-01-2 ┆ 2022-01-2 ┆ … ┆ -87.74    ┆ 41.94     ┆ -87.74    ┆ casual   │\n",
       "│ 8D2A262   ┆ bike      ┆ 1         ┆ 1         ┆   ┆           ┆           ┆           ┆          │\n",
       "│           ┆           ┆ 16:20:02  ┆ 16:32:39  ┆   ┆           ┆           ┆           ┆          │\n",
       "│ B2229B714 ┆ electric_ ┆ 2022-01-2 ┆ 2022-01-2 ┆ … ┆ -87.59    ┆ 41.8      ┆ -87.58    ┆ casual   │\n",
       "│ A3565F0   ┆ bike      ┆ 1         ┆ 1         ┆   ┆           ┆           ┆           ┆          │\n",
       "│           ┆           ┆ 15:51:26  ┆ 15:55:02  ┆   ┆           ┆           ┆           ┆          │\n",
       "│ F6FB0DF04 ┆ electric_ ┆ 2022-01-1 ┆ 2022-01-1 ┆ … ┆ -87.6     ┆ 41.79     ┆ -87.6     ┆ casual   │\n",
       "│ 2DE41B6   ┆ bike      ┆ 2         ┆ 2         ┆   ┆           ┆           ┆           ┆          │\n",
       "│           ┆           ┆ 15:07:13  ┆ 15:12:16  ┆   ┆           ┆           ┆           ┆          │\n",
       "│ D07F10575 ┆ electric_ ┆ 2022-01-1 ┆ 2022-01-1 ┆ … ┆ -87.63    ┆ 41.88     ┆ -87.62    ┆ casual   │\n",
       "│ 42A9F4C   ┆ bike      ┆ 2         ┆ 2         ┆   ┆           ┆           ┆           ┆          │\n",
       "│           ┆           ┆ 11:02:40  ┆ 11:10:32  ┆   ┆           ┆           ┆           ┆          │\n",
       "└───────────┴───────────┴───────────┴───────────┴───┴───────────┴───────────┴───────────┴──────────┘"
      ]
     },
     "execution_count": 61,
     "metadata": {},
     "output_type": "execute_result"
    }
   ],
   "source": [
    "empty_start_station_data = df.filter(pl.col('start_station_id') == None)\n",
    "empty_start_station_data"
   ]
  },
  {
   "cell_type": "code",
   "execution_count": 50,
   "metadata": {},
   "outputs": [
    {
     "name": "stdout",
     "output_type": "stream",
     "text": [
      "Defaulting to user installation because normal site-packages is not writeable\n",
      "Collecting geopy\n",
      "  Downloading geopy-2.3.0-py3-none-any.whl (119 kB)\n",
      "\u001b[2K     \u001b[38;2;114;156;31m━━━━━━━━━━━━━━━━━━━━━━━━━━━━━━━━━━━━━━━\u001b[0m \u001b[32m119.8/119.8 kB\u001b[0m \u001b[31m2.7 MB/s\u001b[0m eta \u001b[36m0:00:00\u001b[0m[31m2.6 MB/s\u001b[0m eta \u001b[36m0:00:01\u001b[0m\n",
      "\u001b[?25hCollecting geographiclib<3,>=1.52\n",
      "  Downloading geographiclib-2.0-py3-none-any.whl (40 kB)\n",
      "\u001b[2K     \u001b[38;2;114;156;31m━━━━━━━━━━━━━━━━━━━━━━━━━━━━━━━━━━━━━━━━\u001b[0m \u001b[32m40.3/40.3 kB\u001b[0m \u001b[31m6.6 MB/s\u001b[0m eta \u001b[36m0:00:00\u001b[0m\n",
      "\u001b[?25hInstalling collected packages: geographiclib, geopy\n",
      "Successfully installed geographiclib-2.0 geopy-2.3.0\n",
      "Note: you may need to restart the kernel to use updated packages.\n"
     ]
    }
   ],
   "source": [
    "%pip install geopy"
   ]
  },
  {
   "cell_type": "code",
   "execution_count": 59,
   "metadata": {},
   "outputs": [
    {
     "name": "stdout",
     "output_type": "stream",
     "text": [
      "['2701-2727', 'North Long Avenue', 'Belmont Cragin', 'Chicago', 'Jefferson Township', 'Cook County', 'Illinois', '60639', 'United States']\n"
     ]
    }
   ],
   "source": [
    "from geopy.geocoders import Nominatim\n",
    "geolocator = Nominatim(user_agent=\"coordinateconverter\")\n",
    "location = geolocator.reverse(\"41.93, -87.76\")\n",
    "print(location.address.split(\", \"))"
   ]
  },
  {
   "cell_type": "code",
   "execution_count": null,
   "metadata": {},
   "outputs": [],
   "source": []
  },
  {
   "cell_type": "code",
   "execution_count": null,
   "metadata": {},
   "outputs": [],
   "source": []
  }
 ],
 "metadata": {
  "kernelspec": {
   "display_name": "venv",
   "language": "python",
   "name": "python3"
  },
  "language_info": {
   "codemirror_mode": {
    "name": "ipython",
    "version": 3
   },
   "file_extension": ".py",
   "mimetype": "text/x-python",
   "name": "python",
   "nbconvert_exporter": "python",
   "pygments_lexer": "ipython3",
   "version": "3.11.4"
  },
  "orig_nbformat": 4
 },
 "nbformat": 4,
 "nbformat_minor": 2
}
